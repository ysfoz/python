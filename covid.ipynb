{
 "cells": [
  {
   "cell_type": "code",
   "execution_count": 1,
   "metadata": {
    "tags": []
   },
   "outputs": [
    {
     "output_type": "stream",
     "name": "stdout",
     "text": "******* Please Enter Your Answer Only YES or NO *******\nYou are in risky group\n"
    }
   ],
   "source": [
    "print('******* Please Enter Your Answer Only YES or NO *******')\n",
    "\n",
    "age = (input('Are you a cigarette addict older than 75 years old?').capitalize())\n",
    "choronic = (input('Do you have a severe chronic disease?').capitalize()) \n",
    "immune = (input('Is your immune system too weak?').capitalize())\n",
    "if age == 'Yes':\n",
    "    age = True\n",
    "else:\n",
    "    age = False\n",
    "if choronic == 'Yes':\n",
    "    choronic = True\n",
    "else:\n",
    "    choronic = False\n",
    "if immune == 'Yes':\n",
    "    immune = True\n",
    "else:\n",
    "    immune = False\n",
    "risk = (age or choronic or immune)\n",
    "if risk == True:\n",
    "    print('You are in risky group')\n",
    "else:\n",
    "    print('You are not in risky group')\n",
    "\n",
    "\n"
   ]
  },
  {
   "cell_type": "code",
   "execution_count": 3,
   "metadata": {
    "tags": []
   },
   "outputs": [
    {
     "output_type": "stream",
     "name": "stdout",
     "text": "******* Please Enter Your Answer Only YES or NO *******\nYou are in risky group\n"
    }
   ],
   "source": [
    "print('******* Please Enter Your Answer Only YES or NO *******')\n",
    "\n",
    "age = (input('Are you a cigarette addict older than 75 years old?').capitalize())\n",
    "choronic = (input('Do you have a severe chronic disease?').capitalize()) \n",
    "immune = (input('Is your immune system too weak?').capitalize())\n",
    "if age == 'Yes':\n",
    "    print('You are in risky group')\n",
    "elif choronic == 'Yes':\n",
    "    print('You are in risky group')\n",
    "elif immune == 'Yes':\n",
    "    print('You are in risky group')\n",
    "else :\n",
    "    print('You are not in risky group')"
   ]
  },
  {
   "cell_type": "code",
   "execution_count": null,
   "metadata": {},
   "outputs": [],
   "source": []
  }
 ],
 "metadata": {
  "language_info": {
   "codemirror_mode": {
    "name": "ipython",
    "version": 3
   },
   "file_extension": ".py",
   "mimetype": "text/x-python",
   "name": "python",
   "nbconvert_exporter": "python",
   "pygments_lexer": "ipython3",
   "version": 3
  },
  "orig_nbformat": 2,
  "kernelspec": {
   "name": "python_defaultSpec_1594249039222",
   "display_name": "Python 3.7.6 64-bit ('base': conda)"
  }
 },
 "nbformat": 4,
 "nbformat_minor": 2
}