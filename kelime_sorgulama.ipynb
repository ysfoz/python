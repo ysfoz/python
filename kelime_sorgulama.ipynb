{
 "metadata": {
  "language_info": {
   "codemirror_mode": {
    "name": "ipython",
    "version": 3
   },
   "file_extension": ".py",
   "mimetype": "text/x-python",
   "name": "python",
   "nbconvert_exporter": "python",
   "pygments_lexer": "ipython3",
   "version": 3
  },
  "orig_nbformat": 2,
  "kernelspec": {
   "name": "python_defaultSpec_1596737536138",
   "display_name": "Python 3.8.3 64-bit"
  }
 },
 "nbformat": 4,
 "nbformat_minor": 2,
 "cells": [
  {
   "cell_type": "code",
   "execution_count": 5,
   "metadata": {},
   "outputs": [],
   "source": [
    "class worterbuch():\n",
    "\n",
    "    def __init__(self,turkisch,englisch,praposition,art,artikel,perfect,prasans):\n",
    "        self.turkisch = turkisch\n",
    "        self.englisch = englisch\n",
    "        self.praposition = praposition\n",
    "        self.art = art\n",
    "        self.artikel = artikel\n",
    "        self.perfect = perfect\n",
    "        self.prasans = prasans\n",
    "    def sorgu(self):\n",
    "        print(f\"\"\"\n",
    "        {self.perfect} Kelimesi ile ilgili bilgiler:\n",
    "        Kelimenin turu     : {self.art}       \n",
    "        Turkce manasi      : {self.turkisch}\n",
    "        Ingilizce manasi   : {self.englisch}\n",
    "        Aldigi praposition : {self.praposition}\n",
    "        Artikel            : {self.artikel}\n",
    "        simdiki zaman hali : {self.prasans}\n",
    "        Gecmis zaman hali  : {self.perfect}\n",
    "        \"\"\")\n",
    "    def mana(self,kelime):\n",
    "        if self.art == 'nomen':\n",
    "            print(f\"\"\"\n",
    "        Kelimenin turu     : {self.art}\n",
    "        Artikel            : {self.artikel}       \n",
    "        Turkce manasi      : {self.turkisch}\n",
    "        Ingilizce manasi   : {self.englisch}\n",
    "        \"\"\")\n",
    "        elif self.art == 'adj':\n",
    "            print(f\"\"\"\n",
    "        Kelimenin turu     : {self.art}      \n",
    "        Turkce manasi      : {self.turkisch}\n",
    "        Ingilizce manasi   : {self.englisch}\n",
    "        \"\"\")\n",
    "        elif self.art == 'verb':\n",
    "            print(f\"\"\"\n",
    "        Kelimenin turu     : {self.art}       \n",
    "        Turkce manasi      : {self.turkisch}\n",
    "        Ingilizce manasi   : {self.englisch}\n",
    "        Aldigi praposition : {self.praposition}\n",
    "        simdiki zaman hali : {self.prasans}\n",
    "        Gecmis zaman hali  : {self.perfect}\n",
    "        \"\"\")\n",
    "        else:\n",
    "            print('bu kelimeye iliskin bilgi mevcut degil')\n",
    "                \n",
    "\n",
    "    \n"
   ]
  },
  {
   "cell_type": "code",
   "execution_count": 6,
   "metadata": {},
   "outputs": [],
   "source": [
    "liste = {'machen' : '1'}\n",
    "aciklama = {1:{\"turkisch\" : \"yapmak\",\"englisch\" : \"make\",\"praposition\" : \"-\",\"art\" : \"verb\",\"artikel\" : \"-\" ,\"perfect\" : \"hat gemacht\",\"prasans\" : \"macht\"}}\n"
   ]
  },
  {
   "cell_type": "code",
   "execution_count": 7,
   "metadata": {
    "tags": []
   },
   "outputs": [],
   "source": [
    "kelime = input('anlamini ogrenmek istediginiz almanca kelimeyi yaziniz')\n",
    "if kelime in liste:\n",
    "    sira = int(liste.get(kelime))\n",
    "    word = aciklama[sira]\n",
    "    #print(word.values())\n",
    "    alle = word.values()\n",
    "    #print(alle)\n",
    "    #worterbuch(i for in alle,sep=\",\")\n",
    "    q = worterbuch(*alle)\n",
    "    q.sorgu()\n",
    "    #worterbuch()\n",
    "        \n",
    "    #for i in alle:\n",
    "     #   print(i)\n",
    "#  if word['art'] == 'verb':\n",
    "    \n",
    "   # print('holey')\n",
    "   # print(type(word))\n",
    "    #art = word[1][2]       \n",
    "       # Turkce manasi      : {self.turkisch}\n",
    "        #Ingilizce manasi   : {self.englisch}\n",
    "        #Aldigi praposition : {self.praposition}\n",
    "        #Artikel            : {self.artikel}\n",
    "        #simdiki zaman hali : {self.prasans}\n",
    "        #Gecmis zaman hali  : {self.perfect}\n",
    "\n",
    "\n",
    "\n",
    "    \n",
    "        \n",
    "\n",
    "\n"
   ]
  },
  {
   "cell_type": "code",
   "execution_count": 23,
   "metadata": {},
   "outputs": [],
   "source": [
    "class worterbuch():\n",
    "    def __init__(self,turkisch,englisch,praposition,art,artikel,perfect,prasans):\n",
    "        self.turkisch = turkisch\n",
    "        self.englisch = englisch\n",
    "        self.praposition = praposition\n",
    "        self.art = art\n",
    "        self.artikel = artikel\n",
    "        self.perfect = perfect\n",
    "        self.prasans = prasans\n",
    "    def sorgu(self):\n",
    "        print(f\"\"\"\n",
    "        {self.perfect} Kelimesi ile ilgili bilgiler:\n",
    "        Kelimenin turu     : {self.art}       \n",
    "        Turkce manasi      : {self.turkisch}\n",
    "        Ingilizce manasi   : {self.englisch}\n",
    "        Aldigi praposition : {self.praposition}\n",
    "        Artikel            : {self.artikel}\n",
    "        simdiki zaman hali : {self.prasans}\n",
    "        Gecmis zaman hali  : {self.perfect}\n",
    "        \"\"\")\n",
    "    def mana(self,kelime):\n",
    "        if self.art == 'nomen':\n",
    "            print(f\"\"\"\n",
    "        Kelimenin turu     : {self.art}\n",
    "        Artikel            : {self.artikel}       \n",
    "        Turkce manasi      : {self.turkisch}\n",
    "        Ingilizce manasi   : {self.englisch}\n",
    "        \"\"\")\n",
    "        elif self.art == 'adj':\n",
    "            print(f\"\"\"\n",
    "        Kelimenin turu     : {self.art}      \n",
    "        Turkce manasi      : {self.turkisch}\n",
    "        Ingilizce manasi   : {self.englisch}\n",
    "        \"\"\")\n",
    "        elif self.art == 'verb':\n",
    "            print(f\"\"\"\n",
    "        Kelimenin turu     : {self.art}       \n",
    "        Turkce manasi      : {self.turkisch}\n",
    "        Ingilizce manasi   : {self.englisch}\n",
    "        Aldigi praposition : {self.praposition}\n",
    "        simdiki zaman hali : {self.prasans}\n",
    "        Gecmis zaman hali  : {self.perfect}\n",
    "        \"\"\")\n",
    "        else:\n",
    "            print('bu kelimeye iliskin bilgi mevcut degil')\n",
    "\n",
    "\n"
   ]
  },
  {
   "cell_type": "code",
   "execution_count": 24,
   "metadata": {
    "tags": []
   },
   "outputs": [
    {
     "output_type": "stream",
     "name": "stdout",
     "text": "bu kelimeye ilskin bilgi mevcut degil\n"
    }
   ],
   "source": [
    "liste = {'machen' : '1'}\n",
    "aciklama = {1:{\"turkisch\" : \"yapmak\",\"englisch\" : \"make\",\"praposition\" : \"-\",\"art\" : \"verb\",\"artikel\" : \"-\" ,\"perfect\" : \"hat gemacht\",\"prasans\" : \"macht\"}}\n",
    "kelime = input('anlamini ogrenmek istediginiz almanca kelimeyi yaziniz')\n",
    "if kelime in liste:\n",
    "    sira = int(liste.get(kelime))\n",
    "    word = aciklama[sira]\n",
    "    #print(word.values())\n",
    "    alle = word.values()\n",
    "    a = worterbuch(*alle)\n",
    "    a.sorgu()\n",
    "    a.mana(kelime)\n",
    "else:\n",
    "    print('bu kelimeye ilskin bilgi mevcut degil')\n",
    "    \n",
    "  "
   ]
  },
  {
   "cell_type": "code",
   "execution_count": 16,
   "metadata": {},
   "outputs": [
    {
     "output_type": "error",
     "ename": "NameError",
     "evalue": "name 'mana' is not defined",
     "traceback": [
      "\u001b[0;31m---------------------------------------------------------------------------\u001b[0m",
      "\u001b[0;31mNameError\u001b[0m                                 Traceback (most recent call last)",
      "\u001b[0;32m<ipython-input-16-9917975b7bdd>\u001b[0m in \u001b[0;36m<module>\u001b[0;34m\u001b[0m\n\u001b[0;32m----> 1\u001b[0;31m \u001b[0mmana\u001b[0m\u001b[0;34m(\u001b[0m\u001b[0;34m'machen'\u001b[0m\u001b[0;34m)\u001b[0m\u001b[0;34m\u001b[0m\u001b[0;34m\u001b[0m\u001b[0m\n\u001b[0m",
      "\u001b[0;31mNameError\u001b[0m: name 'mana' is not defined"
     ]
    }
   ],
   "source": [
    "mana('machen')"
   ]
  },
  {
   "cell_type": "code",
   "execution_count": 86,
   "metadata": {},
   "outputs": [
    {
     "output_type": "error",
     "ename": "SyntaxError",
     "evalue": "unexpected EOF while parsing (<ipython-input-86-73a409f08a19>, line 18)",
     "traceback": [
      "\u001b[0;36m  File \u001b[0;32m\"<ipython-input-86-73a409f08a19>\"\u001b[0;36m, line \u001b[0;32m18\u001b[0m\n\u001b[0;31m    def from_string(cls,emp_str):\u001b[0m\n\u001b[0m                                 ^\u001b[0m\n\u001b[0;31mSyntaxError\u001b[0m\u001b[0;31m:\u001b[0m unexpected EOF while parsing\n"
     ]
    }
   ],
   "source": [
    "class Employee:\n",
    "    raise_amt = 1.04\n",
    "    def __init__(self, first, last,email, pay):\n",
    "        self.first = first\n",
    "        self.last = last\n",
    "        self.email = email\n",
    "        self.pay = pay\n",
    "    def fullname(self):\n",
    "        return '{} {}'.format(self.first, self.last)\n",
    "    def apply_raise(self):\n",
    "        self.pay = int(self.pay * self.raise_amt)\n",
    "\n",
    "    @classmethod\n",
    "    def set_raise_amt(cls,amount):\n",
    "        cls.raise_amt = amount\n",
    "\n",
    "    @classmethod\n",
    "    def from_string(cls,emp_str):\n",
    "        \n"
   ]
  },
  {
   "cell_type": "code",
   "execution_count": 87,
   "metadata": {},
   "outputs": [],
   "source": [
    "emp1 = Employee('yusuf','ozturk','ysf@gmail.com','3000')\n",
    "emp2 = Employee('talha','oz','tlh@gmail.com','4000')"
   ]
  },
  {
   "cell_type": "code",
   "execution_count": 80,
   "metadata": {},
   "outputs": [],
   "source": [
    "Employee.set_raise_amt(1.10)"
   ]
  },
  {
   "cell_type": "code",
   "execution_count": 81,
   "metadata": {
    "tags": []
   },
   "outputs": [
    {
     "output_type": "stream",
     "name": "stdout",
     "text": "1.1\n1.1\n1.1\n"
    }
   ],
   "source": [
    "print(Employee.raise_amt)\n",
    "print(emp1.raise_amt)\n",
    "print(emp2.raise_amt)"
   ]
  },
  {
   "cell_type": "code",
   "execution_count": 82,
   "metadata": {},
   "outputs": [
    {
     "output_type": "execute_result",
     "data": {
      "text/plain": "'yusuf ozturk'"
     },
     "metadata": {},
     "execution_count": 82
    }
   ],
   "source": [
    "emp1.fullname()"
   ]
  },
  {
   "cell_type": "code",
   "execution_count": 83,
   "metadata": {},
   "outputs": [
    {
     "output_type": "execute_result",
     "data": {
      "text/plain": "'talha oz'"
     },
     "metadata": {},
     "execution_count": 83
    }
   ],
   "source": [
    "emp2.fullname()"
   ]
  },
  {
   "cell_type": "code",
   "execution_count": 85,
   "metadata": {},
   "outputs": [
    {
     "output_type": "execute_result",
     "data": {
      "text/plain": "'3000'"
     },
     "metadata": {},
     "execution_count": 85
    }
   ],
   "source": [
    "emp1.pay"
   ]
  },
  {
   "cell_type": "code",
   "execution_count": null,
   "metadata": {},
   "outputs": [],
   "source": []
  }
 ]
}