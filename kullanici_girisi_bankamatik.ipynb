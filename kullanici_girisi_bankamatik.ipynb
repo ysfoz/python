{
 "cells": [
  {
   "cell_type": "code",
   "execution_count": 20,
   "metadata": {
    "tags": []
   },
   "outputs": [
    {
     "output_type": "stream",
     "name": "stdout",
     "text": "you entered the system....\n"
    }
   ],
   "source": [
    "kullanici_adi = 'ysf'\n",
    "sifre = '12345'\n",
    "giris_hakki = 3\n",
    "while True:\n",
    "    kullanici = input('please enter your user name')\n",
    "    password = input('please enter your password')\n",
    "    giris_hakki -= 1\n",
    "    if (kullanici != kullanici_adi) and (sifre != password) :\n",
    "        print('your user name and your password are unvalid')\n",
    "    elif (kullanici != kullanici_adi) and (sifre == password) :\n",
    "        print('your user name is unvalid')\n",
    "    elif (kullanici == kullanici_adi) and (sifre != password) :\n",
    "        print('your password is unvalid')\n",
    "    else:\n",
    "        print('you entered the system....')\n",
    "        break\n",
    "    if (giris_hakki == 0):\n",
    "        print('you entered 3 time wrong')\n",
    "        break"
   ]
  },
  {
   "cell_type": "code",
   "execution_count": 31,
   "metadata": {
    "tags": []
   },
   "outputs": [
    {
     "output_type": "stream",
     "name": "stdout",
     "text": "you have  999\n999\nyou have not eneugh money\n999\nyou have  1000\nyour request is unvalid\nyou have not eneugh money\n1000\nsee you later\n"
    }
   ],
   "source": [
    "balance = 1000\n",
    "while True:\n",
    "    process = input('please choose your process')\n",
    "    if process == 'q':\n",
    "        print('see you later')\n",
    "        break\n",
    "    elif process == '-':\n",
    "        money = int(input('how much money are you want'))\n",
    "        if balance > money :\n",
    "            balance -= int(money)\n",
    "            print('you have ',balance)\n",
    "        if balance < money :\n",
    "             print('you have not eneugh money')\n",
    "        continue\n",
    "    elif process == 'k' :\n",
    "        print(balance)\n",
    "    elif process == '+':\n",
    "        money1 = int(input('how much money are you want'))\n",
    "        balance += int(money1)\n",
    "        print('you have ',balance)\n",
    "\n",
    "    else:\n",
    "        print('your request is unvalid')\n",
    "        continue\n",
    "        break"
   ]
  }
 ],
 "metadata": {
  "language_info": {
   "codemirror_mode": {
    "name": "ipython",
    "version": 3
   },
   "file_extension": ".py",
   "mimetype": "text/x-python",
   "name": "python",
   "nbconvert_exporter": "python",
   "pygments_lexer": "ipython3",
   "version": 3
  },
  "orig_nbformat": 2,
  "kernelspec": {
   "name": "python_defaultSpec_1594918949607",
   "display_name": "Python 3.8.3 64-bit"
  }
 },
 "nbformat": 4,
 "nbformat_minor": 2
}