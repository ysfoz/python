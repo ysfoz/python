{
 "cells": [
  {
   "cell_type": "code",
   "execution_count": 2,
   "metadata": {
    "tags": []
   },
   "outputs": [
    {
     "output_type": "stream",
     "name": "stdout",
     "text": "0\n1\n2\n3\n4\n5\n6\n7\n8\n9\n"
    }
   ],
   "source": [
    "i = 0\n",
    "while i < 10:  # eger counter o;lusturulmazsa i = 0 olarak sonsuz donguye                  #  girer\n",
    "    print(i)\n",
    "    i +=1"
   ]
  },
  {
   "cell_type": "code",
   "execution_count": 4,
   "metadata": {
    "tags": []
   },
   "outputs": [
    {
     "output_type": "stream",
     "name": "stdout",
     "text": "index: 0 liste elemani : 1\nindex: 1 liste elemani : 2\nindex: 2 liste elemani : 3\nindex: 3 liste elemani : 4\nindex: 4 liste elemani : 5\n"
    }
   ],
   "source": [
    "liste = [1, 2, 3, 4, 5]\n",
    "index = 0\n",
    "while index < len(liste):\n",
    "    print(\"index:\", index, \"liste elemani :\", liste[index])\n",
    "    index +=1  # aynisini for i in liste print i diyerek kolayca yapabiliriz"
   ]
  },
  {
   "cell_type": "code",
   "execution_count": null,
   "metadata": {},
   "outputs": [],
   "source": []
  }
 ],
 "metadata": {
  "language_info": {
   "codemirror_mode": {
    "name": "ipython",
    "version": 3
   },
   "file_extension": ".py",
   "mimetype": "text/x-python",
   "name": "python",
   "nbconvert_exporter": "python",
   "pygments_lexer": "ipython3",
   "version": 3
  },
  "orig_nbformat": 2,
  "kernelspec": {
   "name": "python_defaultSpec_1594470511642",
   "display_name": "Python 3.8.3 64-bit"
  }
 },
 "nbformat": 4,
 "nbformat_minor": 2
}