{
 "metadata": {
  "language_info": {
   "codemirror_mode": {
    "name": "ipython",
    "version": 3
   },
   "file_extension": ".py",
   "mimetype": "text/x-python",
   "name": "python",
   "nbconvert_exporter": "python",
   "pygments_lexer": "ipython3",
   "version": 3
  },
  "orig_nbformat": 2,
  "kernelspec": {
   "name": "python_defaultSpec_1595022174321",
   "display_name": "Python 3.7.6 64-bit ('base': conda)"
  }
 },
 "nbformat": 4,
 "nbformat_minor": 2,
 "cells": [
  {
   "cell_type": "code",
   "execution_count": 19,
   "metadata": {
    "tags": []
   },
   "outputs": [
    {
     "output_type": "stream",
     "name": "stdout",
     "text": "6\n8\n2\n5\n"
    }
   ],
   "source": [
    "def ebob(a,b):\n",
    "    liste = []\n",
    "    for i in range(2,(a+1)):\n",
    "        for j in range(2,(b+1)):\n",
    "            if (a % i) == 0 and (b % j) == 0:\n",
    "                if i == j:\n",
    "                    liste.append(i)\n",
    "                    liste = sorted(liste)\n",
    "    print(liste[-1])\n",
    "while True:\n",
    "    a = input('enter a number')\n",
    "    b = input('enter a number')\n",
    "    if a == 'q':\n",
    "        break\n",
    "    else:\n",
    "        a = int(a)\n",
    "        b = int(b)\n",
    "        ebob(a,b)\n",
    "                \n"
   ]
  },
  {
   "cell_type": "code",
   "execution_count": 20,
   "metadata": {
    "tags": []
   },
   "outputs": [
    {
     "output_type": "stream",
     "name": "stdout",
     "text": "960\n"
    }
   ],
   "source": [
    "def ekok(x,y):\n",
    " \n",
    "    if x > y:\n",
    "        rang = range(1,(x+1))\n",
    "    else:\n",
    "        rang = range(1,(y+1))\n",
    "    for i in rang:\n",
    "        for j in rang:\n",
    "            if (i * x) == (j * y):\n",
    "                return (i * x)\n",
    "                break\n",
    "while True:\n",
    "    x = int(input('enter a number'))\n",
    "    y = int(input('enter a number too'))\n",
    "    print(ekok(x,y))\n",
    "    break"
   ]
  },
  {
   "cell_type": "code",
   "execution_count": null,
   "metadata": {},
   "outputs": [],
   "source": []
  }
 ]
}