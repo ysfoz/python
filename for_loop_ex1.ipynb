{
 "cells": [
  {
   "cell_type": "code",
   "execution_count": 9,
   "metadata": {
    "tags": []
   },
   "outputs": [
    {
     "output_type": "stream",
     "name": "stdout",
     "text": "1\n3\n6\n10\n15\n21\n28\n28\n"
    }
   ],
   "source": [
    "liste = [1, 2, 3, 4, 5, 6, 7]\n",
    "toplam1 = 0\n",
    "for i in liste: #  i sadece temsili. istenilen yazilabilir. burada yani for dongusunde i aslinda listenin her elemanini ayri ayri                 #  temsil etmis oluyor\n",
    "    toplam1 = toplam1+i\n",
    "    print(toplam1) # ic hizada gosterirsek her dongunun sonucunu gosteriyor, ta ki liste bitene kadar \n",
    "print(toplam1) # for hizasinda gosterirsek tum doguler bittikten sonraki sonucu gosteriyor.\n"
   ]
  },
  {
   "cell_type": "code",
   "execution_count": 16,
   "metadata": {
    "tags": []
   },
   "outputs": [
    {
     "output_type": "stream",
     "name": "stdout",
     "text": "range(1, 8)\n4\n11\n13\n16\n20\n25\n31\n38\n38\n"
    }
   ],
   "source": [
    "liste2 = range(1,8) # listeyi bu sekilde range ile olusturabiliriz\n",
    "print(liste2) # bu sekilde listenin tamamini gostermiyor, yine range parantezi icerisinde gosteriyor\n",
    "print(liste2[3]) #  ama indexleme yapildiginda yine icerisindeki elemani gosteriyor. tabii ki diger                            #  fonksionlarda liste icerisindeki her eleman icin calistirilabilir\n",
    "toplam2 = 10  # toplam a verilen ilk degere gore , diger elemanlarin toplamini da ekliyor.\n",
    "for j in liste2:\n",
    "    toplam2 = toplam2 + j\n",
    "    print(toplam2)\n",
    "print(toplam2)"
   ]
  },
  {
   "cell_type": "code",
   "execution_count": 31,
   "metadata": {
    "tags": []
   },
   "outputs": [
    {
     "output_type": "stream",
     "name": "stdout",
     "text": "1 tek sayilar\n3 tek sayilar\n5 tek sayilar\n7 tek sayilar\n[2, 4, 6]\n"
    }
   ],
   "source": [
    "liste2 = range(1,8)\n",
    "bos_liste = []\n",
    "for i in liste:\n",
    "    if i % 2 == 0: #  for dongusu calisip liste isindeki her elamanin cift sayi olup olmadigini kontrol ediyor\n",
    "        bos_liste.append(i) # .append metodu ile yukarda tanimlanan bos listeye tum cift sayilari atiyor.\n",
    "    else:\n",
    "        print(f'{i} tek sayilar')\n",
    "print(bos_liste)"
   ]
  },
  {
   "cell_type": "code",
   "execution_count": 55,
   "metadata": {
    "tags": []
   },
   "outputs": [
    {
     "output_type": "stream",
     "name": "stdout",
     "text": "[' ', ' ', 'h', 'a', ' ', 'c', 'o', 'k', ' ', 'u', 'z', 'e']\n['B', 'U', 'G', 'U', 'N', 'V', 'A', 'G', 'L']\n    h a   c o k   u z e\n['B', 'U', 'G', 'U', 'N', 'V', 'A', 'G', 'L', 'B', 'U', 'G', 'U', 'N', 'V', 'A', 'G', 'L']\n"
    }
   ],
   "source": [
    "string1 = 'BU GUN haVA cok GuzeL'  # for dongusu stringler icerisinde de gezebiliyor\n",
    "liste_kucuk = []\n",
    "liste_buyuk = []\n",
    "for i in string1:\n",
    "    if i.isupper() != True:\n",
    "        liste_kucuk.append(i)\n",
    "    else:\n",
    "        liste_buyuk.append(i)\n",
    "\n",
    "print(liste_kucuk)\n",
    "print(liste_buyuk)\n",
    "print(* liste_kucuk)\n",
    "print(2 * liste_buyuk)\n",
    "\n"
   ]
  },
  {
   "cell_type": "code",
   "execution_count": 60,
   "metadata": {
    "tags": []
   },
   "outputs": [
    {
     "output_type": "stream",
     "name": "stdout",
     "text": "Dost istersen Allah yeter.\nDerman istersen Allah yeter.\nÇare istersen Allah yeter.\n"
    }
   ],
   "source": [
    "tuple_gosterim = [('Dost', 'Allah'), ('Derman', 'Allah'), ('Çare', 'Allah')] #  tuple larda tipki listeler                                                                  #  gibi ama bu sekilde de kullanilabilir\n",
    "for i, j in tuple_gosterim:\n",
    "    print(f'{i} istersen {j} yeter.')\n",
    "    "
   ]
  },
  {
   "cell_type": "code",
   "execution_count": 62,
   "metadata": {
    "tags": []
   },
   "outputs": [
    {
     "output_type": "stream",
     "name": "stdout",
     "text": "1 2 3\n6\n4 5 6\n15\n7 8 9\n24\n24\n"
    }
   ],
   "source": [
    "tuple2 = [(1, 2, 3), (4, 5, 6), (7, 8, 9)] #  3 deger oldugunda 3 degisken tanimlanir.\n",
    "total = 0\n",
    "for i, j, z in tuple2:\n",
    "    total = i + j + z\n",
    "    print(i, j, z)\n",
    "    print(total)\n",
    "print(total)\n"
   ]
  },
  {
   "cell_type": "code",
   "execution_count": 63,
   "metadata": {
    "tags": []
   },
   "outputs": [
    {
     "output_type": "stream",
     "name": "stdout",
     "text": "eyup\nkamil\ntalha\nyusuf\n"
    }
   ],
   "source": [
    "dicti = {'eyup' : 'caliskan', 'kamil' : 'azimli', 'talha' : 'gayretli', 'yusuf' : 'idare ediyor'}\n",
    "for i in dicti:\n",
    "    print(i) #  bu sekilde sadece keys elde edilir.\n"
   ]
  },
  {
   "cell_type": "code",
   "execution_count": 64,
   "metadata": {
    "tags": []
   },
   "outputs": [
    {
     "output_type": "stream",
     "name": "stdout",
     "text": "caliskan\nazimli\ngayretli\nidare ediyor\n"
    }
   ],
   "source": [
    "dicti = {'eyup' : 'caliskan', 'kamil' : 'azimli', 'talha' : 'gayretli', 'yusuf' : 'idare ediyor'}\n",
    "for i in dicti.values():\n",
    "    print(i)"
   ]
  },
  {
   "cell_type": "code",
   "execution_count": 65,
   "metadata": {
    "tags": []
   },
   "outputs": [
    {
     "output_type": "stream",
     "name": "stdout",
     "text": "('eyup', 'caliskan')\n('kamil', 'azimli')\n('talha', 'gayretli')\n('yusuf', 'idare ediyor')\n"
    }
   ],
   "source": [
    "dicti = {'eyup' : 'caliskan', 'kamil' : 'azimli', 'talha' : 'gayretli', 'yusuf' : 'idare ediyor'}\n",
    "for i in dicti.items():\n",
    "    print(i)"
   ]
  },
  {
   "cell_type": "code",
   "execution_count": 67,
   "metadata": {
    "tags": []
   },
   "outputs": [
    {
     "output_type": "stream",
     "name": "stdout",
     "text": "kardesim eyup cok caliskan MasaAllah\nkardesim kamil cok azimli MasaAllah\nkardesim talha cok gayretli MasaAllah\nkardesim yusuf cok idare ediyor MasaAllah\n"
    }
   ],
   "source": [
    "dicti = {'eyup' : 'caliskan', 'kamil' : 'azimli', 'talha' : 'gayretli', 'yusuf' : 'idare ediyor'}\n",
    "for i, j in dicti.items():\n",
    "    print(f'kardesim {i} cok {j} MasaAllah')"
   ]
  },
  {
   "cell_type": "code",
   "execution_count": null,
   "metadata": {},
   "outputs": [],
   "source": []
  }
 ],
 "metadata": {
  "language_info": {
   "codemirror_mode": {
    "name": "ipython",
    "version": 3
   },
   "file_extension": ".py",
   "mimetype": "text/x-python",
   "name": "python",
   "nbconvert_exporter": "python",
   "pygments_lexer": "ipython3",
   "version": 3
  },
  "orig_nbformat": 2,
  "kernelspec": {
   "name": "python_defaultSpec_1594465539139",
   "display_name": "Python 3.8.3 64-bit"
  }
 },
 "nbformat": 4,
 "nbformat_minor": 2
}