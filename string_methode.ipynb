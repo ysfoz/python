{
 "metadata": {
  "language_info": {
   "codemirror_mode": {
    "name": "ipython",
    "version": 3
   },
   "file_extension": ".py",
   "mimetype": "text/x-python",
   "name": "python",
   "nbconvert_exporter": "python",
   "pygments_lexer": "ipython3",
   "version": 3
  },
  "orig_nbformat": 2,
  "kernelspec": {
   "name": "python_defaultSpec_1596112922547",
   "display_name": "Python 3.8.3 64-bit"
  }
 },
 "nbformat": 4,
 "nbformat_minor": 2,
 "cells": [
  {
   "cell_type": "code",
   "execution_count": 1,
   "metadata": {
    "tags": []
   },
   "outputs": [
    {
     "output_type": "stream",
     "name": "stdout",
     "text": "e\nlo o\n ,olleh\n5\n"
    }
   ],
   "source": [
    "# Strings \n",
    "a = 'hello, world'\n",
    "print(a[1]) # --1--indexing with strings\n",
    "print(a[2:9:2])\n",
    "print(a[6::-1])\n",
    "print(len(a[3:8]))  #  -- with len function indexing\n",
    "  \n",
    "  \n",
    "\n",
    "  "
   ]
  },
  {
   "cell_type": "code",
   "execution_count": 2,
   "metadata": {
    "tags": []
   },
   "outputs": [
    {
     "output_type": "stream",
     "name": "stdout",
     "text": "rrttgg...,,,,..banana....rrr\nttgg...,,,,..banana....\nttgg...,,,,..banana....rrr\n,,,,,rrttgg...,,,,..banana....\n"
    }
   ],
   "source": [
    "  #  .strip(what would remove)\n",
    "  txt = \",,,,,rrttgg...,,,,..banana....rrr\"\n",
    "  print(txt.strip(','))  # parantez icerisinde bulunan bastaki ve sondaki degerlerin tamamini siler.\n",
    "  print(txt.strip(',r')) # her iki degeri de siler.\n",
    "  print(txt.lstrip(',r'))  # sadece sol taraftaki belirtilen degerleri siler.\n",
    "  print(txt.rstrip(',r'))  # sadece sag tarafta bulunan degerleri siler.\n",
    "  "
   ]
  },
  {
   "cell_type": "code",
   "execution_count": 93,
   "metadata": {
    "tags": []
   },
   "outputs": [
    {
     "output_type": "stream",
     "name": "stdout",
     "text": "['hello,', 'world']\n['he', '', 'o, world']\n['hel', 'o, wor', 'd']\n"
    }
   ],
   "source": [
    "a = 'hello, world'\n",
    "  # .split() spring i parcalarina ayirmak icn kullanilir.\n",
    "print(a.split())  # parantez icerisine bir deger grilmezse , her bosluktan sonra degerlerin ayirarak liste\n",
    "#  icerisinde toplar.\n",
    "print(a.split('l', 2)) # parantez icerinde belirtilen degere gore bolerek listeye atar. sayi olarak\n",
    "#  girilen deger kadar bu sekilde boler.\n",
    "print(a.rsplit('l',2)) # sagdan aramaya baslar"
   ]
  },
  {
   "cell_type": "code",
   "execution_count": 5,
   "metadata": {
    "tags": []
   },
   "outputs": [
    {
     "output_type": "stream",
     "name": "stdout",
     "text": "True\n"
    }
   ],
   "source": [
    "txt = \"The rain in Spain stays mainly in the plain\" # in ve not in operatorleri bu sekilde kullanilabilir.\n",
    "x = \"ain\" in txt\n",
    "print(x)"
   ]
  },
  {
   "cell_type": "code",
   "execution_count": 7,
   "metadata": {
    "tags": []
   },
   "outputs": [
    {
     "output_type": "stream",
     "name": "stdout",
     "text": "hello &  world 36\n"
    }
   ],
   "source": [
    "a= 'hello' # string degerler kendi arasinda toplanabilir. bu sekilde virgul ile diger degerlerle beraber de print edilebilirler.\n",
    "b= 'world'\n",
    "print(a + ' & ',b, 36) "
   ]
  },
  {
   "cell_type": "code",
   "execution_count": 11,
   "metadata": {
    "tags": []
   },
   "outputs": [
    {
     "output_type": "stream",
     "name": "stdout",
     "text": "hava'da kus \\ lar var \ndeniz\tde baliklar\n"
    }
   ],
   "source": [
    "print('hava\\'da kus \\\\ lar var \\ndeniz\\tde baliklar')  # parantez icersinde ' kullanbilmek icin '\\, yeni satir icin \\n, bir tab bosluk icin \\t ve backslash kullanabilmek icin \\\\ kullanilir. Escape character olarak adlandirilir."
   ]
  },
  {
   "cell_type": "code",
   "execution_count": 21,
   "metadata": {
    "tags": []
   },
   "outputs": [
    {
     "output_type": "stream",
     "name": "stdout",
     "text": "Dogacaktir vadettigi \"ß\" gunler hakk'in\ndogacaktir vadettigi \"ß\" gunler hakk'in\nDOGACAKTIR VADETTIGI \"SS\" GUNLER HAKK'IN\nDogacaktir Vadettigi \"Ss\" Gunler Hakk'In\ndOGACAKTIR VADETTIGI \"SS\" GUNLER hAKK'IN\ndogacaktir vadettigi \"ss\" gunler hakk'in\n"
    }
   ],
   "source": [
    "txt = 'Dogacaktir vadettigi \"ß\" gunler Hakk\\'in'\n",
    "print(txt.capitalize()) # sadece ilk harfi buyuk yapar,\n",
    "print(txt.lower()) # tum stringi kucuk yapar,\n",
    "print(txt.upper()) # tum stringi buyuk yapar,\n",
    "print(txt.title()) # kelimelerin ilk harflerini buyuk yapar,\n",
    "print(txt.swapcase()) # buyuk harfleri kucuk , kucukleri buyuk yapar,\n",
    "print(txt.casefold())  # lower gibi karakterleri kucultur, ayni zamanda almancada ki [ ß ] gibi ingilizde yer almayan harfleri [ ss ] gibi ingilizce haline donusturur."
   ]
  },
  {
   "cell_type": "code",
   "execution_count": 35,
   "metadata": {
    "tags": []
   },
   "outputs": [
    {
     "output_type": "stream",
     "name": "stdout",
     "text": "**********************banana**********************\n2\n"
    }
   ],
   "source": [
    "txt = \"banana\"  # sagina ve soluna parantez icersinde ki karakteri alarak ortalar.\n",
    "x = txt.center(50,'*')\n",
    "print(x)\n",
    "print(txt.count('a', 2,6)) # string deger icersindeki, parantez icerindeki karakteri, belirtilen index numaralari arasinda sayar."
   ]
  },
  {
   "cell_type": "code",
   "execution_count": 38,
   "metadata": {
    "tags": []
   },
   "outputs": [
    {
     "output_type": "stream",
     "name": "stdout",
     "text": "False    True\n"
    }
   ],
   "source": [
    "txt = \"Hello, welcome to my world.\"\n",
    "x = txt.endswith(\"my world.\", 5, 11) # stringin basinda ve sonunda belirtilen indexlerde belirtilen           \n",
    "y = txt.startswith(\"Hello\") .        # karakterlerin olup olmadigini kontrol eder, true yada false doner.\n",
    "print(x, \"  \",  y)"
   ]
  },
  {
   "cell_type": "code",
   "execution_count": 42,
   "metadata": {
    "tags": []
   },
   "outputs": [
    {
     "output_type": "stream",
     "name": "stdout",
     "text": "H\te\tl\tl\to\nH       e       l       l       o\nH e l l o\nH   e   l   l   o\nH         e         l         l         o\n"
    }
   ],
   "source": [
    "txt = \"H\\te\\tl\\tl\\to\" # tab ile olusturulan bosluklari arttirmak icin kullaniliyor. normali 8 bosluk oldugu #icin 2 degeri girildiginde bosluklari kaldiriyor.\n",
    "print(txt)\n",
    "print(txt.expandtabs())\n",
    "print(txt.expandtabs(2))\n",
    "print(txt.expandtabs(4))\n",
    "print(txt.expandtabs(10))"
   ]
  },
  {
   "cell_type": "code",
   "execution_count": 90,
   "metadata": {
    "tags": []
   },
   "outputs": [
    {
     "output_type": "stream",
     "name": "stdout",
     "text": "1    8   -1   8  13\n"
    }
   ],
   "source": [
    "txt = \"Hello, welcome to my world.\"\n",
    "y = txt.find('e')  # parantez icerisnde belirtilen degeri belirtilen indexte arar ve ilk buldugu degerin\n",
    "z = txt.rfind('e')  # degeri sagdan aramaya baslar. .rindex() methodu da ayni mantik ile calisiyor.         \n",
    "#  index numarasini yazar, eger yoksa -1 dondurur.\n",
    "x = txt.find(\"e\", 5, 10) \n",
    "k = txt.find('f')\n",
    "a = txt.index(\"e\", 5, 10)  # index metodu ile find ayni sonucu donduruyor.\n",
    "# b = txt.index('f')  ama eger olmayan bir eleman istenirse, find -1, index hata donduruyor.\n",
    "print(y,    \"  \",   x,   ' ',   k,  ' ' ,a, '',z)\n"
   ]
  },
  {
   "cell_type": "code",
   "execution_count": 57,
   "metadata": {
    "tags": []
   },
   "outputs": [
    {
     "output_type": "stream",
     "name": "stdout",
     "text": "True///False///False///True///False///True\n"
    }
   ],
   "source": [
    "txt = \"Company12\"\n",
    "txt2 = 'Company 12'  # elemanlarin tamami alfabetik ve numeric ise true                             degilse false dondururur.\n",
    "txt3 = 'Company12.'\n",
    "txt4 = 'Company12ö'\n",
    "txt5 = 'Company12'\n",
    "txt6 = 'Company'\n",
    "x = txt.isalnum()\n",
    "y = txt2.isalnum()\n",
    "z = txt3.isalnum()\n",
    "k=  txt4.isalnum()\n",
    "# .isalpha sadece alfabetik degerleri arar, ve true veya false                 olarak sonuc dondurur.\n",
    "a = txt5.isalpha()  \n",
    "b = txt6.isalpha() \n",
    "print(x,y,z,k,a,b,sep='///')"
   ]
  },
  {
   "cell_type": "code",
   "execution_count": 60,
   "metadata": {
    "tags": []
   },
   "outputs": [
    {
     "output_type": "stream",
     "name": "stdout",
     "text": "True\nTrue\nFalse\nTrue\nFalse\n"
    }
   ],
   "source": [
    "a = \"\\u0030\" #unicode for 0\n",
    "b = \"\\u0047\" #unicode for G\n",
    "txt = \"50800\"\n",
    "x = txt.isdigit()\n",
    "print(x)\n",
    "print(a.isdecimal())  # unicode degerlerine gore rakamlari arar.\n",
    "print(b.isdecimal())\n",
    "print(a.isdigit()) # hem unicode hem utf-8 olarak rakamlari arar\n",
    "print(b.isdigit())\n"
   ]
  },
  {
   "cell_type": "code",
   "execution_count": 62,
   "metadata": {
    "tags": []
   },
   "outputs": [
    {
     "output_type": "stream",
     "name": "stdout",
     "text": "True\nTrue\nFalse\nFalse\n"
    }
   ],
   "source": [
    "# rakamla baslamiyorsa, numeric ve alfabetik degerler icerdigi durumlarda, elemanlar icerisinde ayrim yoksa True varsa False dondururur.\n",
    "a = \"MyFolder\" \n",
    "b = \"Demo002\"\n",
    "c = \"2bring\"\n",
    "d = \"my demo\"\n",
    "print(a.isidentifier())\n",
    "print(b.isidentifier())\n",
    "print(c.isidentifier())\n",
    "print(d.isidentifier())"
   ]
  },
  {
   "cell_type": "code",
   "execution_count": 68,
   "metadata": {
    "tags": []
   },
   "outputs": [
    {
     "output_type": "stream",
     "name": "stdout",
     "text": "False\nTrue\nFalse\nTrue\nTrue\nFalse\nFalse\nFalse\n"
    }
   ],
   "source": [
    "a = \"Hello world!\"\n",
    "b = \"hello 123\"\n",
    "c = \"mynameisPeter\"\n",
    "txt = \"565543\"\n",
    "y = txt.isprintable() # yazdirilabilir bir degermi\n",
    "x = txt.isnumeric() #numeric bir degermi.\n",
    "z = txt.isspace() # sadece bosluklardan mi olusuyor.\n",
    "print(a.islower()) # sadece kucuk harflerden mi olusuyor.\n",
    "print(b.islower())\n",
    "print(c.islower())\n",
    "print(x)\n",
    "print(y)\n",
    "print(z)\n",
    "print(a.istitle()) # baslik formatin da mi\n",
    "print(a.isupper()) # sadece buyuk harflerden mi olusuyor"
   ]
  },
  {
   "cell_type": "code",
   "execution_count": 76,
   "metadata": {
    "tags": []
   },
   "outputs": [
    {
     "output_type": "stream",
     "name": "stdout",
     "text": "1, 2, 3, 4\n1, 2, 3, 4\ns1.join(s2): 1abc2abc3\ns2.join(s1): a123b123c\nmat->that\n1, 2, 3\nJava->->Python->->Ruby\na$k$l$i$m$d$a$ $s$e$n$ $v$a$r$s$i$n\n"
    }
   ],
   "source": [
    "# .join ile liste,tuples, sets,dictionieries, veya string degerlere belirtilen deger eklenir. ancak sonuc string olarak doner.\n",
    "# .join() with lists\n",
    "numList = ['1', '2', '3', '4']\n",
    "separator = ', '\n",
    "print(separator.join(numList))\n",
    "\n",
    "# .join() with tuples\n",
    "numTuple = ('1', '2', '3', '4')\n",
    "print(separator.join(numTuple))\n",
    "\n",
    "s1 = 'abc'\n",
    "s2 = '123'\n",
    "\n",
    "# each element of s2 is separated by s1\n",
    "# '1'+ 'abc'+ '2'+ 'abc'+ '3'\n",
    "print('s1.join(s2):', s1.join(s2))\n",
    "\n",
    "# each element of s1 is separated by s2\n",
    "# 'a'+ '123'+ 'b'+ '123'+ 'b'\n",
    "print('s2.join(s1):', s2.join(s1))\n",
    "\n",
    "\n",
    "\n",
    "# .join() with dictionaries\n",
    "test = {'mat': 1, 'that': 2}\n",
    "s = '->'\n",
    "\n",
    "# joins the keys only\n",
    "print(s.join(test))\n",
    "\n",
    "test = {1: 'mat', 2: 'that'}\n",
    "s = ', '\n",
    "\n",
    "# this gives error since key isn't string\n",
    "# print(s.join(test)) bu hata veriyor. cunku keys integer deger, string deger olmadi icin hata veriyor.\n",
    "\n",
    "\n",
    "# .join() with sets  set lerde siralama random oldugu icin bu metod ile olusan sonucta, belli bir siralamada olmaz.\n",
    "test = {'2', '1', '3'}\n",
    "s = ', '\n",
    "print(s.join(test))\n",
    "\n",
    "test = {'Python', 'Java', 'Ruby'}\n",
    "s = '->->'\n",
    "print(s.join(test))\n",
    "\n",
    "txt = 'aklimda sen varsin' # str ile degerlere de bu sekilde ekleme yapilabilir.\n",
    "karakter = '$'\n",
    "print(karakter.join(txt))\n"
   ]
  },
  {
   "cell_type": "code",
   "execution_count": 78,
   "metadata": {
    "tags": []
   },
   "outputs": [
    {
     "output_type": "stream",
     "name": "stdout",
     "text": "banana               is my favorite fruit.\nbanana%%%%\n%%%%banana\n"
    }
   ],
   "source": [
    "txt = \"banana\"\n",
    "x = txt.ljust(20) # soldan 20 karakter sayarak, bir deger belitilmedigi durumda 6.(banana 6 karakter) karakterden sonra bosluk birakir. \n",
    "y = txt.ljust(10,\"%\")\n",
    "z = txt.rjust(10,\"%\") # sagdan 10 karakter sayar. Bos olan yere % koyar.\n",
    "print(x, \"is my favorite fruit.\") \n",
    "print(y)\n",
    "print(z)\n"
   ]
  },
  {
   "cell_type": "code",
   "execution_count": 82,
   "metadata": {
    "tags": []
   },
   "outputs": [
    {
     "output_type": "stream",
     "name": "stdout",
     "text": "{109: 101, 83: 74, 97: 111}\nHi Joe!\n6abc\n"
    }
   ],
   "source": [
    "# icerisine 3 parametre alabilir. 1. parametreyi 2. ile degistiriyor. 3. parametrede bulunan karakterleri siliyor. ancak sonuclari ascii koda gore dondurur. Bunu normal yazi hline getirmek icinde .translate() methodu ile beraber kullanilir.\n",
    "txt = \"Hi Sam!\"\n",
    "x = \"mSa\"\n",
    "y = \"eJo\"\n",
    "mytable = txt.maketrans(x, y)\n",
    "print(mytable)\n",
    "print(txt.translate(mytable))\n",
    "\n",
    "txt = \"123456789\"\n",
    "x = \"789\"\n",
    "y = \"abc\"\n",
    "z = \"12345\"\n",
    "mytable2 = txt.maketrans(x, y, z)\n",
    "print(txt.translate(mytable2))\n"
   ]
  },
  {
   "cell_type": "code",
   "execution_count": 91,
   "metadata": {
    "tags": []
   },
   "outputs": [
    {
     "output_type": "stream",
     "name": "stdout",
     "text": "('I could eat ', 'bananas', ' all day')\n('I could eat ', 'b', 'ananas all day')\n('I could eat ', 'b', 'ananas all day')\n('I could eat bananas all day', '', '')\n('', '', 'I could eat bananas all day')\n"
    }
   ],
   "source": [
    "# parantez icersinde belirtilen degerden oncesini, degerin kendisini ve sonrasini ayirarak 3 ayri string deger elde eder. \n",
    "txt = \"I could eat bananas all day\"\n",
    "x = txt.partition(\"bananas\")\n",
    "y = txt.partition('b')\n",
    "k = txt.rpartition('b') # sagdan aramaya baslar\n",
    "z = txt.partition('apple') # eger belirtilen deger yoksa, 2 adat bos str olarak yine 3 str doner.\n",
    "q = txt.rpartition('apple') # sagdan baslar yoksa bos tirnaklari basa yazar.\n",
    "print(x)\n",
    "print(y)\n",
    "print(k)\n",
    "print(z)\n",
    "print(q)"
   ]
  },
  {
   "cell_type": "code",
   "execution_count": 89,
   "metadata": {
    "tags": []
   },
   "outputs": [
    {
     "output_type": "stream",
     "name": "stdout",
     "text": "44411122233322244442225555444\n**4111$$$333$$$4444$$$5555444\n"
    }
   ],
   "source": [
    "txt = \"444111$$$333$$$4444$$$5555444\"\n",
    "\n",
    "x = txt.replace(\"$\", \"2\") # ilk deger yerine ikinci degeri yazar.\n",
    "y = txt.replace(\"4\",'*', 2) # belirtilen sayi kadar yer degistirme yapar.\n",
    "\n",
    "print(x)\n",
    "print(y)\n"
   ]
  },
  {
   "cell_type": "code",
   "execution_count": 98,
   "metadata": {
    "tags": []
   },
   "outputs": [
    {
     "output_type": "stream",
     "name": "stdout",
     "text": "Thank you for the music\nWelcome\n to the\n jungle\n['Thank you for the music', 'Welcome', ' to the', ' jungle']\n['Thank you for the music\\n', 'Welcome\\n', ' to the\\n', ' jungle']\n['Thank you for the music', 'Welcome', ' to the', ' jungle']\n"
    }
   ],
   "source": [
    "# str yi satirlara gore ayirarak her satiri eleman olarak listeye atar. True parametresi girilirse \\n leri de gosterir.\n",
    "txt = \"Thank you for the music\\nWelcome\\n to the\\n jungle\"\n",
    "x = txt.splitlines()\n",
    "y = txt.splitlines(True)\n",
    "z = txt.splitlines(False)\n",
    "print(txt)\n",
    "print(x)\n",
    "print(y)\n",
    "print(z)"
   ]
  },
  {
   "cell_type": "code",
   "execution_count": 99,
   "metadata": {
    "tags": []
   },
   "outputs": [
    {
     "output_type": "stream",
     "name": "stdout",
     "text": "00000hello\nwelcome to the jungle\n000010.000\n"
    }
   ],
   "source": [
    "# .just() methodu gibi str deki karakterleri sayar. ancak bos kalan yerlere sadece sifir yazar.\n",
    "a = \"hello\"\n",
    "b = \"welcome to the jungle\"\n",
    "c = \"10.000\"\n",
    "print(a.zfill(10))\n",
    "print(b.zfill(10))\n",
    "print(c.zfill(10))"
   ]
  },
  {
   "cell_type": "code",
   "execution_count": null,
   "metadata": {},
   "outputs": [],
   "source": []
  }
 ]
}