{
 "metadata": {
  "language_info": {
   "codemirror_mode": {
    "name": "ipython",
    "version": 3
   },
   "file_extension": ".py",
   "mimetype": "text/x-python",
   "name": "python",
   "nbconvert_exporter": "python",
   "pygments_lexer": "ipython3",
   "version": 3
  },
  "orig_nbformat": 2,
  "kernelspec": {
   "name": "python_defaultSpec_1597306837419",
   "display_name": "Python 3.8.3 64-bit"
  }
 },
 "nbformat": 4,
 "nbformat_minor": 2,
 "cells": [
  {
   "cell_type": "code",
   "execution_count": 9,
   "metadata": {
    "tags": []
   },
   "outputs": [
    {
     "output_type": "error",
     "ename": "IsADirectoryError",
     "evalue": "[Errno 21] Is a directory: '/Users/ysf/Desktop/GITHUB/yenibelge.txt'",
     "traceback": [
      "\u001b[0;31m---------------------------------------------------------------------------\u001b[0m",
      "\u001b[0;31mIsADirectoryError\u001b[0m                         Traceback (most recent call last)",
      "\u001b[0;32m<ipython-input-9-bd8693df63a3>\u001b[0m in \u001b[0;36m<module>\u001b[0;34m\u001b[0m\n\u001b[0;32m----> 1\u001b[0;31m \u001b[0;32mwith\u001b[0m \u001b[0mopen\u001b[0m\u001b[0;34m(\u001b[0m\u001b[0;34m'/Users/ysf/Desktop/GITHUB/yenibelge.txt'\u001b[0m\u001b[0;34m,\u001b[0m\u001b[0;34m'w'\u001b[0m\u001b[0;34m,\u001b[0m\u001b[0mencoding\u001b[0m\u001b[0;34m=\u001b[0m\u001b[0;34m'utf-8'\u001b[0m\u001b[0;34m)\u001b[0m \u001b[0;32mas\u001b[0m \u001b[0mfile\u001b[0m\u001b[0;34m:\u001b[0m  \u001b[0;31m# 4 adet satir yazmis olduk.\u001b[0m\u001b[0;34m\u001b[0m\u001b[0;34m\u001b[0m\u001b[0m\n\u001b[0m\u001b[1;32m      2\u001b[0m     \u001b[0mfile\u001b[0m\u001b[0;34m.\u001b[0m\u001b[0mwrite\u001b[0m\u001b[0;34m(\u001b[0m\u001b[0;34m'Yusuf,80,70,75\\nEyup,90,85,80\\nKamil,90,95,80\\nTalha,75,85,95\\n'\u001b[0m\u001b[0;34m)\u001b[0m\u001b[0;34m\u001b[0m\u001b[0;34m\u001b[0m\u001b[0m\n\u001b[1;32m      3\u001b[0m \u001b[0;34m\u001b[0m\u001b[0m\n\u001b[1;32m      4\u001b[0m \u001b[0;32mwith\u001b[0m \u001b[0mopen\u001b[0m\u001b[0;34m(\u001b[0m\u001b[0;34m'/Users/ysf/Desktop/GITHUB/yenibelge.txt'\u001b[0m\u001b[0;34m,\u001b[0m\u001b[0;34m'r'\u001b[0m\u001b[0;34m,\u001b[0m\u001b[0mencoding\u001b[0m\u001b[0;34m=\u001b[0m\u001b[0;34m'utf-8'\u001b[0m\u001b[0;34m)\u001b[0m \u001b[0;32mas\u001b[0m \u001b[0mfile\u001b[0m\u001b[0;34m:\u001b[0m\u001b[0;34m\u001b[0m\u001b[0;34m\u001b[0m\u001b[0m\n\u001b[1;32m      5\u001b[0m     \u001b[0mprint\u001b[0m\u001b[0;34m(\u001b[0m\u001b[0mfile\u001b[0m\u001b[0;34m.\u001b[0m\u001b[0mread\u001b[0m\u001b[0;34m(\u001b[0m\u001b[0;34m)\u001b[0m\u001b[0;34m)\u001b[0m\u001b[0;34m\u001b[0m\u001b[0;34m\u001b[0m\u001b[0m\n",
      "\u001b[0;31mIsADirectoryError\u001b[0m: [Errno 21] Is a directory: '/Users/ysf/Desktop/GITHUB/yenibelge.txt'"
     ]
    }
   ],
   "source": [
    "with open('/Users/ysf/Desktop/GITHUB/yenibelge.txt','w',encoding='utf-8') as file:  # 4 adet satir yazmis olduk.\n",
    "    file.write('Yusuf,80,70,75\\nEyup,90,85,80\\nKamil,90,95,80\\nTalha,75,85,95\\n')\n",
    "\n",
    "with open('/Users/ysf/Desktop/GITHUB/yenibelge.txt','r',encoding='utf-8') as file:\n",
    "    print(file.read())\n",
    "\n",
    "with open('/Users/ysf/Desktop/GITHUB/yenibelge.txt','r+',encoding='utf-8') as file:\n",
    "    icerik = file.read()\n",
    "    icerik = 'ramco,90,95,90\\n' + icerik # bas tarafa bir satir daha ekledik\n",
    "    file.seek(0)\n",
    "    file.write(icerik)\n",
    "    print(icerik)\n",
    "with open('/Users/ysf/Desktop/GITHUB/yenibelge.txt','a',encoding='utf-8') as file:  # sonuna bir satir daha ekledik\n",
    "    file.write('ahmet,100,90,80')\n",
    "\n",
    "with open('/Users/ysf/Desktop/GITHUB/yenibelge.txt','r+',encoding='utf-8') as file:\n",
    "    print(file.read())\n",
    "    print('\\n\\n')\n",
    "\n",
    "with open('/Users/ysf/Desktop/GITHUB/yenibelge.txt','r+',encoding='utf-8') as file:  # readlines liste haline getiriyor.\n",
    "    #bunu kullanarak yeni satiri insert ettik.\n",
    "    icerik1 = file.readlines()\n",
    "    icerik1.insert(3,'omer,60,70,80\\n')\n",
    "    file.seek(0)\n",
    "    for i in icerik1: # for dongusu ile listeyi dosyaya yazdiridik. bunu\n",
    "        file.write(i)\n",
    "\n",
    "with open('/Users/ysf/Desktop/GITHUB/yenibelge.txt','r+',encoding='utf-8') as file:\n",
    "    print(file.read())\n",
    "\n",
    "with open('/Users/ysf/Desktop/GITHUB/yenibelge.txt','r+',encoding='utf-8') as file:\n",
    "\n",
    "    icerik1.insert(3,'mugire,90,80,95\\n')\n",
    "    print('\\n\\n')\n",
    "\n",
    "with open('/Users/ysf/Desktop/GITHUB/yenibelge.txt','r+',encoding='utf-8') as file:  # for dongusu yerine writelines methodu\n",
    "    # kullanilarakta liste icersindeki tum satirlar dosyaya eklenmis olur.\n",
    "    file.writelines(icerik1)\n",
    "    \n",
    "with open('/Users/ysf/Desktop/GITHUB/yenibelge.txt','r+',encoding='utf-8') as file:\n",
    "    print(file.read())"
   ]
  },
  {
   "cell_type": "code",
   "execution_count": 7,
   "metadata": {
    "tags": []
   },
   "outputs": [
    {
     "output_type": "stream",
     "name": "stdout",
     "text": "ramco------------------> AA\nYusuf------------------> CB\nEyup------------------> BB\nKamil------------------> BA\nTalha------------------> BA\nahmet------------------> DD\n\n"
    }
   ],
   "source": [
    "def not_hesapla(satır):\n",
    "\n",
    "    satır = satır[:-1]\n",
    "\n",
    "    liste = satır.split(\",\")\n",
    "\n",
    "    isim = liste[0]\n",
    "\n",
    "    not1 = int(liste[1])\n",
    "\n",
    "    not2 = int(liste[2])\n",
    "\n",
    "    not3 = int(liste[3])\n",
    "\n",
    "    son_not = not1 * (3/10) + not2 * (3/10) + not3 * (4/10)\n",
    "\n",
    "    if (son_not >= 90):\n",
    "\n",
    "        harf = \"AA\"\n",
    "    elif (son_not >= 85):\n",
    "        harf = \"BA\"\n",
    "    elif (son_not >= 80):\n",
    "        harf = \"BB\"\n",
    "    elif (son_not >= 75):\n",
    "        harf = \"CB\"\n",
    "    elif (son_not >= 70):\n",
    "        harf = \"CC\"\n",
    "    elif (son_not >= 65):\n",
    "        harf = \"DC\"\n",
    "    elif (son_not >= 60):\n",
    "        harf = \"DD\"\n",
    "    elif (son_not >= 55):\n",
    "        harf = \"FD\"\n",
    "    else:\n",
    "        harf = \"FF\"\n",
    "\n",
    "    return isim + \"------------------> \" + harf + \"\\n\"\n",
    "\n",
    "\n",
    "with open(\"/Users/ysf/IdeaProjects/untitled1/yenibelge.txt\",\"r\",encoding= \"utf-8\") as file:\n",
    "\n",
    "    eklenecekler_listesi = []\n",
    "\n",
    "    for i in file:\n",
    "\n",
    "        eklenecekler_listesi.append(not_hesapla(i))\n",
    "\n",
    "with open(\"/Users/ysf/Desktop/GITHUB/notlar.txt\",\"w\",encoding=\"utf-8\") as file2:\n",
    "\n",
    "    for i in eklenecekler_listesi:\n",
    "        file2.write(i)\n",
    "with open(\"/Users/ysf/Desktop/GITHUB/notlar.txt\",\"r\",encoding=\"utf-8\") as file2:\n",
    "    print(file2.read())"
   ]
  },
  {
   "cell_type": "code",
   "execution_count": null,
   "metadata": {},
   "outputs": [],
   "source": []
  }
 ]
}