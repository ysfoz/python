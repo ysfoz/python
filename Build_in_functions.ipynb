{
 "metadata": {
  "language_info": {
   "codemirror_mode": {
    "name": "ipython",
    "version": 3
   },
   "file_extension": ".py",
   "mimetype": "text/x-python",
   "name": "python",
   "nbconvert_exporter": "python",
   "pygments_lexer": "ipython3",
   "version": 3
  },
  "orig_nbformat": 2,
  "kernelspec": {
   "name": "python_defaultSpec_1597313344712",
   "display_name": "Python 3.8.3 64-bit"
  }
 },
 "nbformat": 4,
 "nbformat_minor": 2,
 "cells": [
  {
   "cell_type": "code",
   "execution_count": 1,
   "metadata": {},
   "outputs": [],
   "source": [
    "# python build in Functions"
   ]
  },
  {
   "cell_type": "code",
   "execution_count": 23,
   "metadata": {
    "tags": []
   },
   "outputs": [
    {
     "output_type": "stream",
     "name": "stdout",
     "text": "<map object at 0x7f86db58faf0>\n2\n3\n4\n5\n6\nset()\n[]\n"
    }
   ],
   "source": [
    "# MAP fonksiyonu icersine bir baska fonksiyon ve bir iterable deger alir, bu fonksiyonu tipki for dongusu gibi tum degerlere uygular.\n",
    "x = map(lambda x: x + 1,[1,2,3,4,5])\n",
    "print(x) # map ile olusturulan degisken print edildiginde object olarak donus yapar, acmak icin for dongusu yada collection types fonksiyonlari kullanilir.\n",
    "for i in x:\n",
    "    print(i)\n",
    "print(set(x)) # map ile olusturdugumuz deger 1 defa kullaniliyor, yani tekrar listeye atmak istedigimizde bos liste yada bos bir collection donduruyor.\n",
    "print(list(x))"
   ]
  },
  {
   "cell_type": "code",
   "execution_count": 27,
   "metadata": {
    "tags": []
   },
   "outputs": [
    {
     "output_type": "stream",
     "name": "stdout",
     "text": "[13, 5, 7, 9]\n"
    }
   ],
   "source": [
    "def my_fonc(x,y):\n",
    "    return x + y\n",
    "y = map(my_fonc,[1,2,3,4,5],[12,3,4,5]) # bu sekilde 2 liste yerlestirilerek x ve y parametrelerine degerler atanmis olur. fonksiyon kac tane arguman icerisyorsa, parametre olarak o kadar iterable girmek gerekir.\n",
    "print(list(y))"
   ]
  },
  {
   "cell_type": "code",
   "execution_count": 48,
   "metadata": {
    "tags": []
   },
   "outputs": [
    {
     "output_type": "stream",
     "name": "stdout",
     "text": "[11, 24, 39, 56]\n{24, 21, 22, 23}\n"
    }
   ],
   "source": [
    "liste1=[1,2,3,4,5]\n",
    "liste2 = [11,12,13,14]\n",
    "liste3 = [9,8,7,6,5,4,3]\n",
    "print(list(map(lambda x,y: x * y,liste1,liste2))) # degisken ismi ile cagrilarakta ayni sonuc elde edilir. bu deger bir degiskene atanabilir veye return yada print ile geri dondurulur.\n",
    "print(set(map(lambda x,y,z: x + y + z,liste1,liste2,liste3)))"
   ]
  },
  {
   "cell_type": "code",
   "execution_count": null,
   "metadata": {},
   "outputs": [],
   "source": []
  },
  {
   "cell_type": "code",
   "execution_count": 49,
   "metadata": {},
   "outputs": [],
   "source": [
    "# REDUCE fonksiyonu"
   ]
  },
  {
   "cell_type": "code",
   "execution_count": 50,
   "metadata": {},
   "outputs": [],
   "source": [
    "# bu fonksiyon yeni surumlerde gomulu olarak gelmiyor, bu yuzden import etmek gerekiyor\n",
    "from functools import reduce\n"
   ]
  },
  {
   "cell_type": "code",
   "execution_count": 51,
   "metadata": {
    "tags": []
   },
   "outputs": [
    {
     "output_type": "stream",
     "name": "stdout",
     "text": "120\n[1, 2, 3, 4, 5, 6]\n15\n"
    }
   ],
   "source": [
    "print(reduce(lambda x,y: x * y,liste1)) # tek bir iterable gonderildiginde once 1 ve 2 carpar sonra sonucu 3 ile sonra 6 yi 4 ile ve son olarak 24 u 5 ile carpar ve 120 sonucunu dondurur\n",
    "print(reduce(lambda x,y: x + y,([1,2,3],[4,5,6]))) # degiskenler fonksiyon icersinde tanimlandiginda 2 listeyi topladi\n",
    "print(reduce(lambda x,y: x + y, liste1))\n"
   ]
  },
  {
   "cell_type": "code",
   "execution_count": 66,
   "metadata": {
    "tags": []
   },
   "outputs": [
    {
     "output_type": "stream",
     "name": "stdout",
     "text": "14\n[11, 12, 13, 14]\n"
    }
   ],
   "source": [
    "def my_func2(x,y):\n",
    "    if x > y:\n",
    "        return x\n",
    "    else:\n",
    "        return y\n",
    "print(reduce(my_func2,liste2)) # reduce ile tek bir degisken icerisinde ki maximum degeri elde etmis olduk. icine gonderdigimiz listenin tum elemanlarini birbiriyle karsilastirmis oldu.\n",
    "x = map(my_func2,liste2,liste3) # map metodu ile iki liste icerisinde 0. indextekileri, sonra 1.,2. ... elemanlari birbiriyle kiyaslamis olduk\n",
    "print(list(x))"
   ]
  },
  {
   "cell_type": "code",
   "execution_count": null,
   "metadata": {},
   "outputs": [],
   "source": []
  },
  {
   "cell_type": "code",
   "execution_count": 67,
   "metadata": {},
   "outputs": [],
   "source": [
    "# FILTER fonksiyonu"
   ]
  },
  {
   "cell_type": "code",
   "execution_count": null,
   "metadata": {},
   "outputs": [],
   "source": []
  },
  {
   "cell_type": "code",
   "execution_count": 83,
   "metadata": {
    "tags": []
   },
   "outputs": [
    {
     "output_type": "stream",
     "name": "stdout",
     "text": "[8, 6, 4]\nTrue\nTrue\nFalse\n"
    }
   ],
   "source": [
    "# bu fonksiyon tipki reduce fonksiyonun mantigi ile calisir. Ama sonuc olarak True ya da False degerlerini dondurur.\n",
    "print(list(filter(lambda x: x % 2 == 0,liste3))) #filter ile True donun degerleri gorebiliyoruz\n",
    "print(reduce(lambda x,y: x % y == 0,liste3)) # lisenin her elemanini birbiriyle boler. 9 3 bolundugu icin True doner\n",
    "print(reduce(lambda x,y: x % y == 0,liste1)) # 4 2 ye bolundugu icin True doner\n",
    "print(reduce(lambda x,y: x % y == 0,liste2)) # liste icindeki sayilarin hicbiri birbiriyle bolunmedigi icin False doner"
   ]
  },
  {
   "cell_type": "code",
   "execution_count": 104,
   "metadata": {
    "tags": []
   },
   "outputs": [
    {
     "output_type": "stream",
     "name": "stdout",
     "text": "[2, 3, 5, 7, 11, 13, 17, 19, 23, 29, 31, 37, 41, 43, 47, 53, 59, 61, 67, 71, 73, 79, 83, 89, 97]\n2,3,5,7,11,13,17,19,23,29,31,37,41,43,47,53,59,61,67,71,73,79,83,89,97,"
    }
   ],
   "source": [
    "def asal_sayi(x):\n",
    "    i = 2\n",
    "    if x == 1:\n",
    "        return False\n",
    "    elif x == 2:\n",
    "        return True\n",
    "    else:\n",
    "        while i < x:\n",
    "            if x % i == 0:\n",
    "                return False\n",
    "            i +=1\n",
    "        return True\n",
    "\n",
    "\n",
    "x = filter(asal_sayi,range(1,100))\n",
    "print(list(x))\n",
    "x = filter(asal_sayi,range(1,100)) # tipki map te oldugu gibi atanan degeri sadece bir defa kullanabiliyoruz.o yuzden for dongusunde sonuc alabilmek icin x i tekrar tanimladim.\n",
    "for j in x:\n",
    "    print(j,end=',')"
   ]
  },
  {
   "cell_type": "code",
   "execution_count": 96,
   "metadata": {},
   "outputs": [
    {
     "output_type": "execute_result",
     "data": {
      "text/plain": "True"
     },
     "metadata": {},
     "execution_count": 96
    }
   ],
   "source": []
  },
  {
   "cell_type": "code",
   "execution_count": 105,
   "metadata": {},
   "outputs": [],
   "source": [
    "# ZIP fonksiyonu\n"
   ]
  },
  {
   "cell_type": "code",
   "execution_count": 115,
   "metadata": {
    "tags": []
   },
   "outputs": [
    {
     "output_type": "stream",
     "name": "stdout",
     "text": "<zip object at 0x7f86dba4c400>\n(('John', 'Jenny'), ('Charles', 'Christy'), ('Mike', 'Monica'))\n{('Mike', 'Monica', 'zrank'), ('John', 'Jenny', 'albert'), ('Charles', 'Christy', 'frank')}\n"
    }
   ],
   "source": [
    "# bu fonksiyon ile iki veya daha fazla iterable degerler indexlerine gore ayri set ler haline getirir.\n",
    "a = (\"John\", \"Charles\", \"Mike\",\"ddd\")\n",
    "b = (\"Jenny\", \"Christy\", \"Monica\")\n",
    "c = (\"albert\", \"frank\", \"zrank\")\n",
    "\n",
    "x = zip(a, b)\n",
    "y = zip(a,b,c)\n",
    "print(x)\n",
    "print(tuple(x))\n",
    "print(set(y))\n"
   ]
  },
  {
   "cell_type": "code",
   "execution_count": 131,
   "metadata": {
    "tags": []
   },
   "outputs": [
    {
     "output_type": "stream",
     "name": "stdout",
     "text": "i: 1 j: Python\ni: 2 j: Php\ni: 3 j: Java\ni: 4 j: Javascript\n{1: 'Python', 2: 'Php', 3: 'Java', 4: 'Javascript'}\n{1: 'Python', 2: 'Php', 3: 'Java', 4: 'Javascript'}\n"
    }
   ],
   "source": [
    "## Aynı anda iki liste üzerinde gezinmek icin kullanilabilir. en yaygin kullanimi bu.\n",
    "liste1 = [1,2,3,4]\n",
    "liste2 = [\"Python\",\"Php\",\"Java\",\"Javascript\"]\n",
    "dict_1 = {}\n",
    "dict_2 = {}\n",
    "for i,j in zip(liste1,liste2):\n",
    "    print(\"i:\",i,\"j:\",j)\n",
    "    dict_1.setdefault(i,j) #bu ve alttaki yontem ile elde edilen sonuclar bir dict icersinde key ve value olarak toplanmis olur.\n",
    "    dict_2[i] = j\n",
    "print(dict_1)\n",
    "print(dict_2)\n",
    "    #thisdict['model'] = 'focus' "
   ]
  },
  {
   "cell_type": "code",
   "execution_count": 118,
   "metadata": {
    "tags": []
   },
   "outputs": [
    {
     "output_type": "stream",
     "name": "stdout",
     "text": "[('Elma', 'Sıfır'), ('Armut', 'Bir'), ('Kiraz', 'İki')]\n[(1, 0), (2, 1), (3, 2)]\n"
    }
   ],
   "source": [
    "sözlük1 = {\"Elma\":1,\"Armut\":2,\"Kiraz\":3} # dict ler icerinde de zip fonksiyonu kullanilabilir.\n",
    "sözlük2 = {\"Sıfır\":0,\"Bir\":1,\"İki\":2}\n",
    "print(list(zip(sözlük1,sözlük2))) # Anahtarlar eşleşti.\n",
    "print(list(zip(sözlük1.values(),sözlük2.values()))) # Değerler eşleşti"
   ]
  },
  {
   "cell_type": "code",
   "execution_count": null,
   "metadata": {},
   "outputs": [],
   "source": []
  }
 ]
}