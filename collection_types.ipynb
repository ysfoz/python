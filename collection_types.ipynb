{
 "metadata": {
  "language_info": {
   "codemirror_mode": {
    "name": "ipython",
    "version": 3
   },
   "file_extension": ".py",
   "mimetype": "text/x-python",
   "name": "python",
   "nbconvert_exporter": "python",
   "pygments_lexer": "ipython3",
   "version": 3
  },
  "orig_nbformat": 2,
  "kernelspec": {
   "name": "python_defaultSpec_1597152082139",
   "display_name": "Python 3.8.3 64-bit"
  }
 },
 "nbformat": 4,
 "nbformat_minor": 2,
 "cells": [
  {
   "cell_type": "code",
   "execution_count": 1,
   "metadata": {},
   "outputs": [],
   "source": [
    "# Collection Types\n",
    "# LISTELER"
   ]
  },
  {
   "cell_type": "code",
   "execution_count": 52,
   "metadata": {
    "tags": []
   },
   "outputs": [
    {
     "output_type": "stream",
     "name": "stdout",
     "text": "banana\ncherry\n['cherry']\n['apple', 'banana', 'cherry']\n['cherry']\n['apple', 'banana']\n['apple', 'blackcurrant', 'cherry']\n3\n"
    }
   ],
   "source": [
    "# index lemenin listelerde kullanimi\n",
    "thislist = [\"apple\", \"banana\", \"cherry\"]\n",
    "print(thislist[1]) # str\n",
    "print(thislist[-1]) # str\n",
    "print(thislist[2:5])\n",
    "print(thislist[:4])\n",
    "print(thislist[2:])\n",
    "print(thislist[-4:-1])\n",
    "thislist[1] = \"blackcurrant\" # bu sekilde listenin elemanin yerine baska bir eleman atanabilir.\n",
    "print(thislist)\n",
    "print(len(thislist)) # len fonksiyonu listeler icinde kullanilabilir."
   ]
  },
  {
   "cell_type": "code",
   "execution_count": 57,
   "metadata": {
    "tags": []
   },
   "outputs": [
    {
     "output_type": "stream",
     "name": "stdout",
     "text": "['apple', 'banana', 'cherry', 'mandarin']\n['apple', 'banana', 'cherry', 'mandarin', 'apple']\n['apple', 'banana', 'cherry', 'mandarin', 'apple', ['watermelon', 'melon']]\nmelon\no\n"
    }
   ],
   "source": [
    "#.append() methodu\n",
    "thislist = [\"apple\", \"banana\", \"cherry\"]\n",
    "thislist.append('mandarin') # belirtilen elamani listenin sonuna ekler,program her calistiginda tekrar ekler.\n",
    "print(thislist)\n",
    "thislist.append('apple') # listede olmasi farketmez, yine listenin sonuna ekler\n",
    "print(thislist)\n",
    "list2 = ['watermelon','melon']\n",
    "thislist.append(list2) # bu sekilde iki liste birlistirilebilir. ancak eklenen liste bi eleman gibi eklenir. yani tek bir index numarasi alir. \n",
    "print(thislist)\n",
    "print(thislist[5][1]) # bu sekilde liste icerindeki listenin elemanlarina ulasilabilir.\n",
    "print(thislist[5][1][3]) # bu sekilde de elemanin karakterlerine ulasilabilir.\n"
   ]
  },
  {
   "cell_type": "code",
   "execution_count": 30,
   "metadata": {
    "tags": []
   },
   "outputs": [
    {
     "output_type": "stream",
     "name": "stdout",
     "text": "[]\n"
    }
   ],
   "source": [
    "# .clear() methodu ile listenin icerisindeki tum elemanlar silinir.\n",
    "fruits = [\"apple\", \"banana\", \"cherry\"] \n",
    "fruits.clear()\n",
    "print(fruits)"
   ]
  },
  {
   "cell_type": "code",
   "execution_count": 37,
   "metadata": {
    "tags": []
   },
   "outputs": [
    {
     "output_type": "stream",
     "name": "stdout",
     "text": "['apple', 'banana', 'cherry', 'orange']\n['apple', 'banana', 'cherry', 'orange']\n['apple', 'banana', 'cherry', 'orange', 'mandarin']\n['apple', 'banana', 'cherry', 'orange', 'ananas']\n['apple', 'banana', 'cherry', 'orange', 'ananas']\n"
    }
   ],
   "source": [
    "# .copy( metodu ile bir listenin kopyasi alinabilir. bu sekilde ayni liste uzerinde farkli islemler yapilabilir. josephin derste anlattigi gibi listeyi yeni bir isimle baska bir listeye esitledigimiz durumlarda, liste uzerinde yapilan degisiklik her iki listeyi de etkiliyor. ama .copy( metodu le bu sorun ortadan kalkiyor.))\n",
    "fruits = ['apple', 'banana', 'cherry', 'orange']\n",
    "x = fruits.copy()\n",
    "y = fruits \n",
    "print(x)\n",
    "print(y)\n",
    "x.append('mandarin')\n",
    "y.append('ananas')\n",
    "print(x)\n",
    "print(y)\n",
    "print(fruits)  # y listesine ekledigimiz halde fruits te de degisiklik oldu.\n",
    "\n"
   ]
  },
  {
   "cell_type": "code",
   "execution_count": 50,
   "metadata": {
    "tags": []
   },
   "outputs": [
    {
     "output_type": "stream",
     "name": "stdout",
     "text": "2\n"
    }
   ],
   "source": [
    "# .count() metodu ile liste icersindeki elemanlar tekrarlariyla birlikte sayilabilir.\n",
    "points = [1, 4, 2, 9, 7, 8, 9, 3, 1]\n",
    "x = points.count(9) # str lerde bu method kullanilirken index belirtilerek belirtilen aralikta saydirmak mumknken listelerde bu mumkun olmuyor.\n",
    "print(x)\n"
   ]
  },
  {
   "cell_type": "code",
   "execution_count": 62,
   "metadata": {
    "tags": []
   },
   "outputs": [
    {
     "output_type": "stream",
     "name": "stdout",
     "text": "['apple', 'banana', 'cherry', 1, 4, 5, 9]\n['apple', 'banana', 'cherry', 'a', 'c']\n['apple', 'banana', 'cherry', 0, 9, 8, 7]\n['apple', 'banana', 'cherry', 1, 2, 3, 4]\n['apple', 'banana', 'cherry', 'h', 'a', 'y', 'a', 't', ' ', 'g', 'u', 'z', 'e', 'l']\n"
    }
   ],
   "source": [
    "# .extend() metodu ile iterable olan diger degerler listeye eklenebilir. .append() metodu sadece listelerde kullanilirken ve listeyi de yine liste olarak eklerken, bu metod ile eklenene degerlerin tamami yeni bir eleman olarak lsteye eklenir.\n",
    "fruits = ['apple', 'banana', 'cherry']\n",
    "tuple_ = (1, 4, 5, 9)\n",
    "fruits.extend(tuple_)\n",
    "print(fruits)\n",
    "fruits = ['apple', 'banana', 'cherry']\n",
    "dict_ = {'a': 'b', 'c':'d'}\n",
    "fruits.extend(dict_) # dictionerylerde sadece key leri ekler\n",
    "print(fruits)\n",
    "fruits = ['apple', 'banana', 'cherry']\n",
    "list_ = [0,9,8,7]\n",
    "fruits.extend(list_)\n",
    "print(fruits)\n",
    "fruits = ['apple', 'banana', 'cherry']\n",
    "set_ = {1,2,3,4}\n",
    "fruits.extend(set_)\n",
    "print(fruits)\n",
    "fruits = ['apple', 'banana', 'cherry']\n",
    "str_ = 'hayat guzel'\n",
    "fruits.extend(str_) # stringlerde her karakteri ayri olarak ekliyor.\n",
    "print(fruits)\n"
   ]
  },
  {
   "cell_type": "code",
   "execution_count": 12,
   "metadata": {
    "tags": []
   },
   "outputs": [
    {
     "output_type": "stream",
     "name": "stdout",
     "text": "['apple', 'banana', 'cherry', 1, 4, 5, 9]\n"
    }
   ],
   "source": [
    "fruits = ['apple', 'banana', 'cherry']\n",
    "numbers = [1, 4, 5, 9]\n",
    "liste_3 = fruits + numbers # toplama operatoru kullanilarak ta iki listenin elemanlari tek bir listede toplanabilir\n",
    "print(liste_3)"
   ]
  },
  {
   "cell_type": "code",
   "execution_count": 64,
   "metadata": {
    "tags": []
   },
   "outputs": [
    {
     "output_type": "stream",
     "name": "stdout",
     "text": "0\n"
    }
   ],
   "source": [
    "# .index() metodu ile belirtilen elemanin index numarasi doner.\n",
    "fruits = ['apple', 'banana', 'cherry']\n",
    "print(fruits.index('apple'))"
   ]
  },
  {
   "cell_type": "code",
   "execution_count": 67,
   "metadata": {
    "tags": []
   },
   "outputs": [
    {
     "output_type": "stream",
     "name": "stdout",
     "text": "['apple', 'orange', 'banana', 'cherry']\n"
    }
   ],
   "source": [
    "# .insert() metodu ile istenilen elaman istenilen indexe atanir.\n",
    "fruits = ['apple', 'banana', 'cherry']\n",
    "fruits.insert(1,\"orange\")\n",
    "print(fruits)"
   ]
  },
  {
   "cell_type": "code",
   "execution_count": 71,
   "metadata": {
    "tags": []
   },
   "outputs": [
    {
     "output_type": "stream",
     "name": "stdout",
     "text": "cherry\nbanana\n"
    }
   ],
   "source": [
    "fruits = ['apple', 'banana', 'cherry']\n",
    "x = fruits.pop() # index belirtilmedigi durumda listenin sonundaki elemani ekranda gostererek siler. aslinda listeden cikartir ve ayri bir eleman olarak bir degiskene atanarak yine kullanilabilir. \n",
    "print(x)\n",
    "fruits = ['apple', 'banana', 'cherry']\n",
    "y = fruits.pop(1) # index numarasina gore siler\n",
    "print(y)"
   ]
  },
  {
   "cell_type": "code",
   "execution_count": 73,
   "metadata": {
    "tags": []
   },
   "outputs": [
    {
     "output_type": "stream",
     "name": "stdout",
     "text": "['apple', 'cherry']\n"
    }
   ],
   "source": [
    "# .remove() metodu ile belirtilen eleman silinir.\n",
    "fruits = ['apple', 'banana', 'cherry']\n",
    "fruits.remove(\"banana\")\n",
    "print(fruits)"
   ]
  },
  {
   "cell_type": "code",
   "execution_count": 9,
   "metadata": {
    "tags": []
   },
   "outputs": [
    {
     "output_type": "stream",
     "name": "stdout",
     "text": "['banana', 'cherry']\n"
    }
   ],
   "source": [
    "thislist = [\"apple\", \"banana\", \"cherry\"] # del keyword ile index numarasina gore gore listenin elemani silinir. ayni zamanda index numarasi belirtilmeden liste tamamen de silinebilir. clear ile silindiginde liste nin icersinde ki elemanlarlar silinirken del ile liste tamamen silinir. \n",
    "del thislist[0]\n",
    "print(thislist)\n",
    "#del thislist bu islem ile liste tamamen silindiginden print etmek istegimizde liste olmadigi icin hata verir.\n",
    "#print(thislist)"
   ]
  },
  {
   "cell_type": "code",
   "execution_count": 77,
   "metadata": {
    "tags": []
   },
   "outputs": [
    {
     "output_type": "stream",
     "name": "stdout",
     "text": "['cherry', 'banana', 'apple']\n"
    }
   ],
   "source": [
    "# listede bulunan elemanlari tersten dondurur.\n",
    "fruits = ['apple', 'banana', 'cherry']\n",
    "fruits.reverse()\n",
    "print(fruits)"
   ]
  },
  {
   "cell_type": "code",
   "execution_count": 81,
   "metadata": {
    "tags": []
   },
   "outputs": [
    {
     "output_type": "stream",
     "name": "stdout",
     "text": "['Mitsubishi', 'Ford', 'BMW', 'VW']\n"
    }
   ],
   "source": [
    "# .sort(reverse=True/False key=function)\n",
    "def myFunc(e):\n",
    "  return len(e)\n",
    "\n",
    "cars = ['Ford', 'Mitsubishi', 'BMW', 'VW']\n",
    "cars.sort(reverse=True, key=myFunc) # reverse true oldugunda buyukten kucuge dogru siralar, false olursa yada hic yazilmazsa kucukten buyuge dogru siralar. key olarak bir fonksiyon girilir ve o fonksiyonun sonuclarina gore siralar. burada len ile uzunluklarini hesaplayarak onlari buyukten kucuge dogru siralamis.\n",
    "print(cars)"
   ]
  },
  {
   "cell_type": "code",
   "execution_count": null,
   "metadata": {},
   "outputs": [],
   "source": []
  },
  {
   "cell_type": "code",
   "execution_count": 31,
   "metadata": {
    "tags": []
   },
   "outputs": [
    {
     "output_type": "stream",
     "name": "stdout",
     "text": "<class 'tuple'>\n<class 'str'>\n<class 'tuple'>\n"
    }
   ],
   "source": [
    "# TUPLE METHODLARI \n",
    "#TUPLE LAR degistirilemezler. bu yuzden ekleme veya silme islemi yapilamaz. Ayrica tuple icerisindeki elemanlar virgul ile ayrilir. \n",
    "thistuple = ('apple',) # tek elemanli bir tuple in sonunda virgul olmasi gerekir.\n",
    "thisstr = ('apple') # bu durumda str olur.\n",
    "print(type(thistuple))\n",
    "print(type(thisstr))\n",
    "bostuple =() # bu sekilde bos bir tuple olusturulabilir.\n",
    "print(type(bostuple))"
   ]
  },
  {
   "cell_type": "code",
   "execution_count": 33,
   "metadata": {
    "tags": []
   },
   "outputs": [
    {
     "output_type": "stream",
     "name": "stdout",
     "text": "('orange', 'kiwi', 'melon')\ncherry\n('mango', 'melon', 'kiwi', 'orange', 'cherry', 'banana', 'apple')\n"
    }
   ],
   "source": [
    "# tuple larda indexleme mumkun\n",
    "thistuple = (\"apple\", \"banana\", \"cherry\", \"orange\", \"kiwi\", \"melon\", \"mango\")\n",
    "print(thistuple[-4:-1])\n",
    "print(thistuple[2])\n",
    "print(thistuple[::-1])"
   ]
  },
  {
   "cell_type": "code",
   "execution_count": 34,
   "metadata": {
    "tags": []
   },
   "outputs": [
    {
     "output_type": "stream",
     "name": "stdout",
     "text": "('apple', 'kiwi', 'cherry')\n"
    }
   ],
   "source": [
    "# tuple larda degisiklik mumkun olmadigi icin list fonksiyonu kullanilarak tuple list e donusturulur ve ekleme veya cikartma islemi yapilir.\n",
    "x = (\"apple\", \"banana\", \"cherry\")\n",
    "y = list(x)\n",
    "y[1] = \"kiwi\"\n",
    "x = tuple(y)\n",
    "print(x)"
   ]
  },
  {
   "cell_type": "code",
   "execution_count": 35,
   "metadata": {},
   "outputs": [],
   "source": [
    "# del keyword u ile tuple icerisinden eleman silinemez. ancak tuple in tamami silinebilir\n",
    "x = (\"apple\", \"banana\", \"cherry\")\n",
    "del x"
   ]
  },
  {
   "cell_type": "code",
   "execution_count": 36,
   "metadata": {
    "tags": []
   },
   "outputs": [
    {
     "output_type": "stream",
     "name": "stdout",
     "text": "('a', 'b', 'c', 1, 2, 3)\n"
    }
   ],
   "source": [
    "# 2 tuple toplama operatoru ile yeni bir degiskene atanabilir.\n",
    "tuple1 = (\"a\", \"b\" , \"c\")\n",
    "tuple2 = (1, 2, 3)\n",
    "\n",
    "tuple3 = tuple1 + tuple2\n",
    "print(tuple3)"
   ]
  },
  {
   "cell_type": "code",
   "execution_count": 42,
   "metadata": {
    "tags": []
   },
   "outputs": [
    {
     "output_type": "stream",
     "name": "stdout",
     "text": "2\n"
    }
   ],
   "source": [
    "# .count() metodu ile tuple icerisindeki elemanlar saydirilabilir.\n",
    "thistuple = (1, 3, 7, 8, 7, 5, 4, 6, 8, 5)\n",
    "\n",
    "x = thistuple.count(5)\n",
    "\n",
    "print(x)\n"
   ]
  },
  {
   "cell_type": "code",
   "execution_count": 43,
   "metadata": {
    "tags": []
   },
   "outputs": [
    {
     "output_type": "stream",
     "name": "stdout",
     "text": "3\n"
    }
   ],
   "source": [
    "#.index metodu ile belirtilen elemanin index numarasi tespit edilebilir.\n",
    "thistuple = (1, 3, 7, 8, 7, 5, 4, 6, 8, 5)\n",
    "\n",
    "x = thistuple.index(8)\n",
    "\n",
    "print(x)"
   ]
  },
  {
   "cell_type": "code",
   "execution_count": null,
   "metadata": {},
   "outputs": [],
   "source": []
  },
  {
   "cell_type": "code",
   "execution_count": 85,
   "metadata": {
    "tags": []
   },
   "outputs": [
    {
     "output_type": "stream",
     "name": "stdout",
     "text": "{'cherry', 'apple', 'banana'}\n<class 'set'>\n<class 'dict'>\n"
    }
   ],
   "source": [
    "# SET metodlari \n",
    "# set ler duzensiz olarak print olurlar. yani elemanlarin indexleri degisebilir. bu yuzden indexleme yapilmaz\n",
    "# set ler icerisinde ayni elemanlar tekrar etmez. ayni eleman sadece bir defa olabilir.\n",
    "thisset = {\"apple\", \"banana\", \"cherry\"}\n",
    "print(thisset)\n",
    "bosset ={''}\n",
    "bosdict ={}\n",
    "print(type(bosset))\n",
    "print(type(bosdict))"
   ]
  },
  {
   "cell_type": "code",
   "execution_count": 61,
   "metadata": {
    "tags": []
   },
   "outputs": [
    {
     "output_type": "stream",
     "name": "stdout",
     "text": "{'orange', 'cherry', 'apple', 'banana'}\n{'o', 'n', 'orange', 'a', 'g', 'apple', 'r', 'banana', 'e', 'cherry'}\n{'o', 'n', 'orange', 'a', 'g', 'liste1', 'apple', 'r', 'banana', 'e', 'cherry'}\n{'o', 'n', 'orange', 'a', 'g', 'liste1', 'apple', 'r', 'banana', 'set1', 'e', 'cherry'}\n{'o', 'n', 'dict', 'orange', 'a', 'g', 'liste1', 'apple', 'r', 'banana', 'set1', 'e', 'cherry'}\n{'o', 'n', 'dict', 'orange', 'a', 'g', 'tuple1', 'liste1', 'apple', 'r', 'banana', 'set1', 'e', 'cherry'}\n"
    }
   ],
   "source": [
    "# .add metodu ile set icerisine yani bir eleman atanabilir\n",
    "thisset = {\"apple\", \"banana\", \"cherry\"}\n",
    "\n",
    "thisset.add(\"orange\") # yeni bir eleman olarak butun halinda atar.\n",
    "\n",
    "print(thisset) \n",
    "\n",
    "thisset.update('orange') # her karakteri elaman olarak atar.\n",
    "\n",
    "print(thisset)\n",
    "\n",
    "liste = ['liste1','liste1'] \n",
    "\n",
    "thisset.update(liste) # .update metodu ile bir liste set icersine eklenebilir.\n",
    "print(thisset)\n",
    "\n",
    "set_ = {'set1', 'set1'}\n",
    "thisset.update(set_) #update metodu ile baska bir set eklenebilir\n",
    "print(thisset)\n",
    "\n",
    "dicte = {'dict':'dict1'} # dictionery keyleri de update ile set icerisine atilabilir.\n",
    "thisset.update(dicte)\n",
    "print(thisset)\n",
    "\n",
    "tuple_ = (\"tuple1\", \"tuple1\" , \"tuple1\")\n",
    "thisset.update(tuple_) # tuple icersindeki elemanlarda atilabilir.\n",
    "print(thisset)\n",
    "\n",
    "# kisaca tum collection types lar .update metodu ile set ler icerisine atilabilir.\n"
   ]
  },
  {
   "cell_type": "code",
   "execution_count": 75,
   "metadata": {
    "tags": []
   },
   "outputs": [
    {
     "output_type": "stream",
     "name": "stdout",
     "text": "{'cherry', 'banana'}\n{'cherry', 'apple'}\n{'apple', 'banana'}\ncherry\n"
    }
   ],
   "source": [
    "thisset = {\"apple\", \"banana\", \"cherry\"}\n",
    "\n",
    "thisset.remove('apple')\n",
    "# thisset.remove('app') bu sekilde set icerisinde olmayan bir deger girildiginde hata yukselir\n",
    "print(thisset)\n",
    "\n",
    "thisset = {\"apple\", \"banana\", \"cherry\"}\n",
    "thisset.discard('banana') # tipki remove da oldugu gibi elemani siler. ancak set icerisinde olmayan bir eleman selinmek istendiginde hata vermez. remove ile farki budur.\n",
    "thisset.discard('app')\n",
    "print(thisset)\n",
    "\n",
    "thisset = {\"apple\", \"banana\", \"cherry\"}\n",
    "x = thisset.pop() # pop metodu ile set in son elemani silinir. ancak setler duzensiz oldugu icin belirli bir eleman silinemez.\n",
    "print(thisset)\n",
    "print(x)\n"
   ]
  },
  {
   "cell_type": "code",
   "execution_count": 79,
   "metadata": {
    "tags": []
   },
   "outputs": [
    {
     "output_type": "stream",
     "name": "stdout",
     "text": "set()\n"
    }
   ],
   "source": [
    "thisset = {\"apple\", \"banana\", \"cherry\"}\n",
    "thisset.clear() # set icerisindeki elemanlar tamamen silinir.\n",
    "print(thisset)\n",
    "\n",
    "thisset = {\"apple\", \"banana\", \"cherry\"}\n",
    "del thisset #set tamamen silinir\n",
    "#print(thisset) artik set silindigi icin hata verir"
   ]
  },
  {
   "cell_type": "code",
   "execution_count": 83,
   "metadata": {
    "tags": []
   },
   "outputs": [
    {
     "output_type": "stream",
     "name": "stdout",
     "text": "<class 'set'>\n"
    }
   ],
   "source": []
  },
  {
   "cell_type": "code",
   "execution_count": 93,
   "metadata": {
    "tags": []
   },
   "outputs": [
    {
     "output_type": "stream",
     "name": "stdout",
     "text": "{1, 2, 3, 'a', 'b', 'c'}\n{1, 4, 5, 9, 'a', 'apple', 'banana', 'b', 'cherry', 'c'}\n{'b', 'dict', 'c', 'a'}\n{'tuple1', 'b', 'c', 'a'}\n"
    }
   ],
   "source": [
    "set1 = {\"a\", \"b\" , \"c\"}\n",
    "set2 = {1, 2, 3}\n",
    "set3 = set1.union(set2) # .union() methodu ile .update() methodundan farkli olarak iki set ayri bir degiskene atanarak birlestirilebilir.\n",
    "print(set3)\n",
    "\n",
    "# .union() methodu ile set icersine liste,tuple ve dictioneries lerde atilabilir.\n",
    "set4 = set1.union(liste_3)\n",
    "print(set4)\n",
    "\n",
    "set5 = set1.union(dicte)\n",
    "print(set5)\n",
    "\n",
    "set6 = set1.union(tuple_)\n",
    "print(set6)"
   ]
  },
  {
   "cell_type": "code",
   "execution_count": 100,
   "metadata": {
    "tags": []
   },
   "outputs": [
    {
     "output_type": "stream",
     "name": "stdout",
     "text": "{'cherry', 'banana'}\n{'cherry', 'banana'}\n['cherry', 'banana']\n{'cherry', 'banana'}\n"
    }
   ],
   "source": [
    "x = {\"apple\", \"banana\", \"cherry\"}\n",
    "y = {\"google\", \"microsoft\", \"apple\"}\n",
    "z = x.difference(y)  # bu sekilde bir degiskene atanarak , yeni bir set olusturulabilir.\n",
    "print(x.difference(y))  #.difference metodu ile iki set arasindaki farkli elemanlar tespit edilebilir.\n",
    "print(z)\n",
    "print(list(z)) # liste ye donusturulebilir.\n",
    "\n",
    "x.difference_update(y) # difference_update methodu ile varolan set baska bir set ile karsilastirilarak farkli olan elemanlar ile ayni set guncellenmis olur. yani .difference ile farkli bir degisken gerekirken bu metod ile varolan bir degisken update edilmis olur.\n",
    "print(x)"
   ]
  },
  {
   "cell_type": "code",
   "execution_count": 113,
   "metadata": {
    "tags": []
   },
   "outputs": [
    {
     "output_type": "stream",
     "name": "stdout",
     "text": "{'c'}\n{'c'}\n{'b', 'c'}\n{'b', 'c'}\n{'apple'}\n"
    }
   ],
   "source": [
    "x = {\"a\", \"b\", \"c\"}\n",
    "y = {\"c\", \"d\", \"e\"}\n",
    "z = {\"f\", \"g\", \"c\"}\n",
    "\n",
    "result = x.intersection(y, z) # bu yontem difference nin tersine ayni olan elemanlari dondurur.\n",
    "print(result)\n",
    "\n",
    "# bir set ile diger collection types ler bu yontem ile kullanilabilir. ama diger type ler kendi arasinda bu yontemi kullanamz\n",
    "liste = ['c',1,2,3]\n",
    "print(x.intersection(liste))\n",
    "tuple1 = ('c','b','g')\n",
    "print(x.intersection(tuple1))\n",
    "dict1 = {'c':'1', 'b':'u'}\n",
    "print(x.intersection(dict1))\n",
    "\n",
    "a = {\"apple\", \"banana\", \"cherry\"}\n",
    "b = {\"google\", \"microsoft\", \"apple\"}\n",
    "\n",
    "a.intersection_update(b) # ayni set icerisinde olusturur.\n",
    "\n",
    "print(a)"
   ]
  },
  {
   "cell_type": "code",
   "execution_count": 114,
   "metadata": {
    "tags": []
   },
   "outputs": [
    {
     "output_type": "stream",
     "name": "stdout",
     "text": "True\n"
    }
   ],
   "source": [
    "x = {\"apple\", \"banana\", \"cherry\"}\n",
    "y = {\"google\", \"microsoft\", \"facebook\"}\n",
    "\n",
    "z = x.isdisjoint(y) # eger kesisen elemanlar yoksa TRUE varsa FALSE doner.\n",
    "\n",
    "print(z)"
   ]
  },
  {
   "cell_type": "code",
   "execution_count": 120,
   "metadata": {
    "tags": []
   },
   "outputs": [
    {
     "output_type": "stream",
     "name": "stdout",
     "text": "True\nTrue\n"
    }
   ],
   "source": [
    "x = {\"a\", \"b\", \"c\"}\n",
    "y = {\"f\", \"e\", \"d\", \"c\", \"b\", \"a\"}\n",
    "\n",
    "z = x.issubset(y)  # bir set in elemanlarinin tamami karsilastirilan diger set te varsa TRUE yoksa FALSE doner\n",
    "q = y.issuperset(x) # sondaki set bastaki set icinde var mi\n",
    "print(z)\n",
    "print(q)\n"
   ]
  },
  {
   "cell_type": "code",
   "execution_count": 122,
   "metadata": {
    "tags": []
   },
   "outputs": [
    {
     "output_type": "stream",
     "name": "stdout",
     "text": "{'microsoft', 'banana', 'google', 'cherry'}\n{'microsoft', 'banana', 'google', 'cherry'}\n"
    }
   ],
   "source": [
    "x = {\"apple\", \"banana\", \"cherry\"}\n",
    "y = {\"google\", \"microsoft\", \"apple\"}\n",
    "\n",
    "z = x.symmetric_difference(y) # iki set arasinda farkli olan tum degerleri dondurur. sadece . difference bir setin digerinden farkarini cikartiyordu. bu yontem her iki listeyi birbirleri ile karsilastirarak sonuc verir.\n",
    "\n",
    "print(z)\n",
    "\n",
    "x.symmetric_difference_update(y) # bu yontem ile var olan set uzerinde islem yapilmis olur.\n",
    "print(x)"
   ]
  },
  {
   "cell_type": "code",
   "execution_count": null,
   "metadata": {},
   "outputs": [],
   "source": []
  },
  {
   "cell_type": "code",
   "execution_count": null,
   "metadata": {},
   "outputs": [],
   "source": [
    "# DICTIONIERS metodlari\n"
   ]
  },
  {
   "cell_type": "code",
   "execution_count": 9,
   "metadata": {
    "tags": []
   },
   "outputs": [
    {
     "output_type": "stream",
     "name": "stdout",
     "text": "{'brand': 'Ford', 'model': 'Mustang', 'year': 1964}\nMustang\nMustang\nMustang\n11000\n{'brand': 'Ford', 'model': 'Mustang', 'year': 1964}\n"
    }
   ],
   "source": [
    "thisdict = {\n",
    "  \"brand\": \"Ford\",\n",
    "  \"model\": \"Mustang\",\n",
    "  \"year\": 1964\n",
    "}\n",
    "print(thisdict)\n",
    "\n",
    "print(thisdict['model']) # key girilerek istenilen deger goruntulenbilir\n",
    "\n",
    "x = thisdict[\"model\"] #  bu deger bir degiskene atanabilir.\n",
    "print(x)\n",
    "\n",
    "y = thisdict.get(\"model\") # get metodu ile de bu sonucu elde etmek mumkun.\n",
    "print(y)\n",
    "\n",
    "print(thisdict.get('km',11000))  # olmayan br item sonuc olarak geliyor, ama dict icerisine atmiyor.\n",
    "print(thisdict)"
   ]
  },
  {
   "cell_type": "code",
   "execution_count": 11,
   "metadata": {
    "tags": []
   },
   "outputs": [
    {
     "output_type": "stream",
     "name": "stdout",
     "text": "{'brand': 'Ford', 'model': 'focus', 'year': 1964}\n"
    }
   ],
   "source": [
    "thisdict = {\n",
    "  \"brand\": \"Ford\",\n",
    "  \"model\": \"Mustang\",\n",
    "  \"year\": 1964\n",
    "}\n",
    "thisdict['model'] = 'focus' # tipki indexleme gibi key ler uzerinden value ler degistirilebilir.\n",
    "print(thisdict)"
   ]
  },
  {
   "cell_type": "code",
   "execution_count": 1,
   "metadata": {
    "tags": []
   },
   "outputs": [
    {
     "output_type": "stream",
     "name": "stdout",
     "text": "Ford,Mustang,1964,\n\nFord,Mustang,1964,\n\nbrand,model,year,\n\nbrand,model,year,\n\nbrand Ford\nmodel Mustang\nyear 1964\n"
    }
   ],
   "source": [
    "thisdict =\t{\n",
    "  \"brand\": \"Ford\",\n",
    "  \"model\": \"Mustang\",\n",
    "  \"year\": 1964\n",
    "}\n",
    "for x in thisdict:\n",
    "    print(thisdict[x],end=',') # for dongusu sadece keyleri dondurur, ancak bu sekilde value ler dondurulebilir.\n",
    "\n",
    "print('\\n')\n",
    "\n",
    "for j in thisdict.values(): #value lere bu sekilde de ulasilabilir.\n",
    "    print(j,end=',')\n",
    "\n",
    "print('\\n')\n",
    "\n",
    "for i in thisdict:  # sadece keys doner\n",
    "    print(i,end=',')\n",
    "  \n",
    "\n",
    "print('\\n')\n",
    "\n",
    "for w in thisdict.keys(): #keys  lere bu sekilde de ulasilabilir.\n",
    "    print(w,end=',')\n",
    "\n",
    "print('\\n')\n",
    "\n",
    "for a,b in thisdict.items(): # tum items yazdirmak icin kullanilir\n",
    "    print(a,b)"
   ]
  },
  {
   "cell_type": "code",
   "execution_count": 21,
   "metadata": {
    "tags": []
   },
   "outputs": [
    {
     "output_type": "stream",
     "name": "stdout",
     "text": "{'brand': 'Ford', 'model': 'Mustang', 'year': 1964, 'color': 'red'}\n{'brand': 'Ford', 'model': 'Mustang', 'year': 1964, 'color': 'White'}\n"
    }
   ],
   "source": [
    "thisdict =\t{\n",
    "  \"brand\": \"Ford\",\n",
    "  \"model\": \"Mustang\",\n",
    "  \"year\": 1964\n",
    "}\n",
    "thisdict[\"color\"] = \"red\" # bu sekilde yeni bir item eklenmis olur\n",
    "print(thisdict)\n",
    "\n",
    "thisdict.update({\"color\": \"White\"}) # goruldugu uzere ayni sonuc elde edilir\n",
    "\n",
    "print(thisdict)\n",
    "\n",
    "\n"
   ]
  },
  {
   "cell_type": "code",
   "execution_count": 6,
   "metadata": {
    "tags": []
   },
   "outputs": [
    {
     "output_type": "stream",
     "name": "stdout",
     "text": "{'brand': 'Ford', 'year': 1964}\n('year', 1964)\n{'brand': 'Ford', 'year': 1964}\n{}\n"
    }
   ],
   "source": [
    "# silme islemi icin digerlerinde oldugu gibi bir cok metod vardir\n",
    "thisdict =\t{\n",
    "  \"brand\": \"Ford\",\n",
    "  \"model\": \"Mustang\",\n",
    "  \"year\": 1964\n",
    "}\n",
    "thisdict.pop(\"model\") # belitilen key ile birlikte tum item silinir.\n",
    "print(thisdict)\n",
    "print(thisdict.popitem()) # en sonda bulunan item silinmis olur\n",
    "\n",
    "thisdict =\t{\n",
    "  \"brand\": \"Ford\",\n",
    "  \"model\": \"Mustang\",\n",
    "  \"year\": 1964\n",
    "}\n",
    "del thisdict[\"model\"] # pop ile ayni sonuc elde edilir. ama pop ile elde edilen sonuc baska bir degiskene atanabilir. del ile silinir.\n",
    "print(thisdict)\n",
    "\n",
    "#del thisdict kodu ile dict tamamen silinir.\n",
    "\n",
    "thisdict = {\n",
    "  \"brand\": \"Ford\",\n",
    "  \"model\": \"Mustang\",\n",
    "  \"year\": 1964\n",
    "}\n",
    "thisdict.clear() # dict icerigi silinmisolur, ama dict hala duruyor.\n",
    "print(thisdict)\n"
   ]
  },
  {
   "cell_type": "code",
   "execution_count": 7,
   "metadata": {
    "tags": []
   },
   "outputs": [
    {
     "output_type": "stream",
     "name": "stdout",
     "text": "{'brand': 'Ford', 'model': 'Mustang', 'year': 1964}\n"
    }
   ],
   "source": [
    "thisdict = {\n",
    "  \"brand\": \"Ford\",\n",
    "  \"model\": \"Mustang\",\n",
    "  \"year\": 1964\n",
    "}\n",
    "mydict = thisdict.copy() #listelerde oldugu gibi farkli islemler yapabilmek icin dict in bir kopyasini olusturmaya yarar.\n",
    "print(mydict)"
   ]
  },
  {
   "cell_type": "code",
   "execution_count": 12,
   "metadata": {
    "tags": []
   },
   "outputs": [
    {
     "output_type": "stream",
     "name": "stdout",
     "text": "Tobias\nysf\n"
    }
   ],
   "source": [
    "myfamily = {\n",
    "  \"child1\" : {\n",
    "    \"name\" : \"Emil\",\n",
    "    \"year\" : 2004\n",
    "  },\n",
    "  \"child2\" : {\n",
    "    \"name\" : \"Tobias\",\n",
    "    \"year\" : 2007\n",
    "  },\n",
    "  \"child3\" : {\n",
    "    \"name\" : \"Linus\",\n",
    "    \"year\" : 2011\n",
    "  }\n",
    "}\n",
    "\n",
    "print(myfamily['child2']['name']) # nested dict lerde keysler indec gibi kullanilarak istenilen veriye ulasilabilir.\n",
    "myfamily['child2']['name'] = 'ysf'\n",
    "print(myfamily['child2']['name'])\n"
   ]
  },
  {
   "cell_type": "code",
   "execution_count": 14,
   "metadata": {
    "tags": []
   },
   "outputs": [
    {
     "output_type": "stream",
     "name": "stdout",
     "text": "{'child1': {'name': 'Emil', 'year': 2004}, 'child2': {'name': 'Tobias', 'year': 2007}, 'child3': {'name': 'Linus', 'year': 2011}}\n"
    }
   ],
   "source": [
    "child1 = {\n",
    "  \"name\" : \"Emil\",\n",
    "  \"year\" : 2004\n",
    "}\n",
    "child2 = {\n",
    "  \"name\" : \"Tobias\",\n",
    "  \"year\" : 2007\n",
    "}\n",
    "child3 = {\n",
    "  \"name\" : \"Linus\",\n",
    "  \"year\" : 2011\n",
    "}\n",
    "\n",
    "myfamily = { . # nested bir dict olusturmus oluyoruz.\n",
    "  \"child1\" : child1,\n",
    "  \"child2\" : child2,\n",
    "  \"child3\" : child3\n",
    "}\n",
    "print(myfamily)"
   ]
  },
  {
   "cell_type": "code",
   "execution_count": 17,
   "metadata": {
    "tags": []
   },
   "outputs": [
    {
     "output_type": "stream",
     "name": "stdout",
     "text": "{'baba': 'ali', 'anne': 'ayse', 'ogul': 'kenan'}\n"
    }
   ],
   "source": [
    "aile = dict(baba = 'ali',anne = 'ayse',ogul = 'kenan') #dict fonksiyonu ile bu sekilde dict olusturulur.\n",
    "print(aile)"
   ]
  },
  {
   "cell_type": "code",
   "execution_count": 24,
   "metadata": {
    "tags": []
   },
   "outputs": [
    {
     "output_type": "stream",
     "name": "stdout",
     "text": "{'key1': 'value', 'key2': 'value', 'key3': 'value'}\n"
    }
   ],
   "source": [
    "x = ('key1', 'key2', 'key3')\n",
    "y = ('value')\n",
    "\n",
    "thisdict = dict.fromkeys(x, y)\n",
    "print(thisdict)\n"
   ]
  },
  {
   "cell_type": "code",
   "execution_count": 32,
   "metadata": {
    "tags": []
   },
   "outputs": [
    {
     "output_type": "stream",
     "name": "stdout",
     "text": "Mustang\n{'brand': 'Ford', 'model': 'Mustang', 'year': 1964}\nyeni_value\n{'brand': 'Ford', 'model': 'Mustang', 'year': 1964, 'yeni_key': 'yeni_value'}\nNone\n{'brand': 'Ford', 'model': 'Mustang', 'year': 1964, 'yeni_key': 'yeni_value', 'en_yeni_key': None}\n"
    }
   ],
   "source": [
    "car = {\n",
    "  \"brand\": \"Ford\",\n",
    "  \"model\": \"Mustang\",\n",
    "  \"year\": 1964\n",
    "}\n",
    "\n",
    "x = car.setdefault(\"model\", \"Bronco\") # burada hali hazirda model isimli bir key oldugu icin sonuc, model key ine ait value yani mustang olur.\n",
    "print(x)\n",
    "print(car)\n",
    "\n",
    "y = car.setdefault('yeni_key','yeni_value') # dict icerisinde olmayan bir key yazildiginda , bu sefer bu yeni key liste icerisinde olusturulur. sonuc olarak ta yeni atanan value yi dondurur.\n",
    "print(y)\n",
    "print(car)\n",
    "\n",
    "z = car.setdefault('en_yeni_key') # value belirtilmedi icin none degerini listeye atar ve dondurur.\n",
    "print(z)\n",
    "print(car)"
   ]
  },
  {
   "cell_type": "code",
   "execution_count": null,
   "metadata": {},
   "outputs": [],
   "source": []
  }
 ]
}