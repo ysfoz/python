{
 "cells": [
  {
   "cell_type": "markdown",
   "metadata": {},
   "source": [
    "SORU:1\n",
    "Aldığınız kursun adına göre IT alanında meslek sahibi olup olamayacağınızı ekrana yazdıran bir kod yazınız. (Kabul edilen=Clarusway)"
   ]
  },
  {
   "cell_type": "code",
   "execution_count": 2,
   "metadata": {
    "tags": []
   },
   "outputs": [
    {
     "output_type": "stream",
     "name": "stdout",
     "text": "en dogru secim\n"
    }
   ],
   "source": [
    "x = input('hangi kursa devam ediyorsunuz')\n",
    "if x == 'clarusway':\n",
    "    print('en dogru secim')\n",
    "else:\n",
    "    print('biraz son olacak')\n"
   ]
  },
  {
   "cell_type": "markdown",
   "metadata": {},
   "source": [
    "SORU:2\n",
    "Alınan ağırlık değerine göre ağırlığı kaldırıp kaldıramayacağınızı ekrana yazdıran bir kod yazınız. (ÖR: 100 kg'a kadar kaldırabiliyorum)"
   ]
  },
  {
   "cell_type": "code",
   "execution_count": 6,
   "metadata": {
    "tags": []
   },
   "outputs": [
    {
     "output_type": "stream",
     "name": "stdout",
     "text": "bu agirlik senin icin cok kolay\n"
    }
   ],
   "source": [
    "agirlik = int(input('agirlik degerini giriniz'))\n",
    "if agirlik <= 100:\n",
    "    print('bu agirlik senin icin cok kolay')\n",
    "else:\n",
    "    print('bu senin icin biraz fazla')"
   ]
  },
  {
   "cell_type": "markdown",
   "metadata": {},
   "source": [
    "SORU:3 Girilen sayının pozitif, negatif, ya da 0 olduğunu bulan kodu yazınız."
   ]
  },
  {
   "cell_type": "code",
   "execution_count": 10,
   "metadata": {
    "tags": []
   },
   "outputs": [
    {
     "output_type": "stream",
     "name": "stdout",
     "text": "-12 negatif bir sayidir\n"
    }
   ],
   "source": [
    "sayi= int(input('bir sayi giriniz'))\n",
    "if sayi == 0:\n",
    "    print(f'{sayi} sayisi')\n",
    "elif sayi < 0:\n",
    "    print(f'{sayi} negatif bir sayidir')\n",
    "else :\n",
    "    print(f'{sayi} pozitif bir sayidir.')"
   ]
  },
  {
   "cell_type": "markdown",
   "metadata": {},
   "source": [
    "SORU:4\n",
    "Kişinin ad, kilo ve boy bilgilerini alıp kilo indekslerini hesaplayan python uygulamasını yapınız.\n",
    "\n",
    "Formül: (Kilo / boy uzunluğunun karesi)\n",
    "\n",
    "Aşağıdaki tabloya göre kişi hangi gruba girmektedir.\n",
    "\n",
    "0-18.4 => Zayıf\n",
    "\n",
    "18.5-24.9 => Normal\n",
    "\n",
    "25.0-29.9 => Fazla Kilolu\n",
    "\n",
    "30.0-34.9 => Şişman (Obez)Kişinin ad, kilo ve boy bilgilerini alıp kilo indekslerini hesaplayan python uygulamasını yapınız."
   ]
  },
  {
   "cell_type": "code",
   "execution_count": 19,
   "metadata": {
    "tags": []
   },
   "outputs": [
    {
     "output_type": "stream",
     "name": "stdout",
     "text": "24.835646457268076\nysf, 85 sizin icin ideal\n"
    }
   ],
   "source": [
    "ad = input('adiniz nedir')\n",
    "kilo= int(input('kac kilosunuz'))\n",
    "boy= float(input('boyunuz kac'))\n",
    "oran = kilo / (boy**2)\n",
    "print(oran)\n",
    "if oran <=18.4:\n",
    "    print(f'{ad}, uzgunum ama {kilo} sizin icin yetersiz')\n",
    "elif 18.5 <= oran <= 24.9:\n",
    "    print(f'{ad}, {kilo} sizin icin ideal')\n",
    "elif 25.0 <= oran <=29.9:\n",
    "    print(f'{ad}, uzgunum ama {kilo} sizin icin biraz fazla')\n",
    "else :\n",
    "    print(f'{ad}, uzgunum ama {kilo} sizin icin cok fazla, acil diyete baslamalisiniz')"
   ]
  },
  {
   "cell_type": "code",
   "execution_count": null,
   "metadata": {},
   "outputs": [],
   "source": []
  },
  {
   "cell_type": "markdown",
   "metadata": {},
   "source": [
    "SORU:5 Meyvelerden oluşan bir liste oluştur ve for kullanarak ekrana yazdır:"
   ]
  },
  {
   "cell_type": "code",
   "execution_count": 21,
   "metadata": {
    "tags": []
   },
   "outputs": [
    {
     "output_type": "stream",
     "name": "stdout",
     "text": "elma,portakal,armut,mandalina,karpuz,"
    }
   ],
   "source": [
    "meyveler = ['elma', 'portakal', 'armut', 'mandalina', 'karpuz']\n",
    "for i in meyveler:\n",
    "    print(i, end=',')"
   ]
  },
  {
   "cell_type": "markdown",
   "metadata": {},
   "source": [
    "SORU:6  0 ile 10 arasındaki sayıları ve karelerini for kullanarak ekrana yazdır."
   ]
  },
  {
   "cell_type": "code",
   "execution_count": 22,
   "metadata": {
    "tags": []
   },
   "outputs": [
    {
     "output_type": "stream",
     "name": "stdout",
     "text": "0 0\n1 1\n2 4\n3 9\n4 16\n5 25\n6 36\n7 49\n8 64\n9 81\n10 100\n"
    }
   ],
   "source": [
    "sayi = range(11)\n",
    "for i in sayi:\n",
    "    print(i, i ** 2)"
   ]
  },
  {
   "cell_type": "code",
   "execution_count": null,
   "metadata": {},
   "outputs": [],
   "source": []
  },
  {
   "cell_type": "markdown",
   "metadata": {},
   "source": [
    "SORU:7 1 ile 10 arasında sayıları for kullanarak ekrana yazdır 5 i görünce döngüden çık."
   ]
  },
  {
   "cell_type": "code",
   "execution_count": 23,
   "metadata": {
    "tags": []
   },
   "outputs": [
    {
     "output_type": "stream",
     "name": "stdout",
     "text": "0\n1\n2\n3\n4\n5\n"
    }
   ],
   "source": [
    "sayi = range(11)\n",
    "for i in sayi:\n",
    "    print(i)\n",
    "    if i == 5:\n",
    "        break\n"
   ]
  },
  {
   "cell_type": "markdown",
   "metadata": {},
   "source": [
    "SORU:8 0 dan 10 a kadar olan tek sayıları for döngüsü kullanarak ekrana yazdır."
   ]
  },
  {
   "cell_type": "code",
   "execution_count": 41,
   "metadata": {
    "tags": []
   },
   "outputs": [
    {
     "output_type": "stream",
     "name": "stdout",
     "text": "1\n3\n5\n7\n9\n"
    }
   ],
   "source": [
    "sayi = range(11)\n",
    "for i in sayi:\n",
    "    if i % 2 !=0:\n",
    "        print(i)"
   ]
  },
  {
   "cell_type": "markdown",
   "metadata": {},
   "source": [
    "SORU:9 While döngüsü kullanarak sonsuz döngü örneği yazınız."
   ]
  },
  {
   "cell_type": "code",
   "execution_count": null,
   "metadata": {},
   "outputs": [],
   "source": []
  },
  {
   "cell_type": "markdown",
   "metadata": {},
   "source": [
    "SORU:10 Girilen sayının faktoriyelini alan kodu for döngüsü kullanarak yazınız."
   ]
  },
  {
   "cell_type": "code",
   "execution_count": 30,
   "metadata": {
    "tags": []
   },
   "outputs": [
    {
     "output_type": "stream",
     "name": "stdout",
     "text": "5040\n"
    }
   ],
   "source": [
    "fak = 1\n",
    "sayi = int(input('bir sayi giriniz'))\n",
    "for i in range(1,(sayi+1)):\n",
    "    fak *= i\n",
    "print(fak)"
   ]
  },
  {
   "cell_type": "markdown",
   "metadata": {},
   "source": [
    "SORU:11 for döngüsü kullanarak 1 den 10 a kadar çarpım tablosu oluşturunuz."
   ]
  },
  {
   "cell_type": "code",
   "execution_count": 43,
   "metadata": {
    "tags": []
   },
   "outputs": [
    {
     "output_type": "stream",
     "name": "stdout",
     "text": "1\n2\n3\n4\n5\n6\n7\n8\n9\n10\n2\n4\n6\n8\n10\n12\n14\n16\n18\n20\n3\n6\n9\n12\n15\n18\n21\n24\n27\n30\n4\n8\n12\n16\n20\n24\n28\n32\n36\n40\n5\n10\n15\n20\n25\n30\n35\n40\n45\n50\n6\n12\n18\n24\n30\n36\n42\n48\n54\n60\n7\n14\n21\n28\n35\n42\n49\n56\n63\n70\n8\n16\n24\n32\n40\n48\n56\n64\n72\n80\n9\n18\n27\n36\n45\n54\n63\n72\n81\n90\n10\n20\n30\n40\n50\n60\n70\n80\n90\n100\n"
    }
   ],
   "source": [
    "sayi = range(1,11)\n",
    "for i in sayi:\n",
    "    for j in sayi:\n",
    "        print(i * j)"
   ]
  },
  {
   "cell_type": "markdown",
   "metadata": {},
   "source": [
    "SORU:12 for döngüsü kullanarak bir sözlüğün elemanlarını ekrana yazdırınız."
   ]
  },
  {
   "cell_type": "code",
   "execution_count": 50,
   "metadata": {
    "tags": []
   },
   "outputs": [
    {
     "output_type": "stream",
     "name": "stdout",
     "text": "bir\niki\nuc \n"
    }
   ],
   "source": [
    "dicte = {\"bir\" : \"1\", \"iki\" : \"2\", \"uc \": \"3\"}\n",
    "for i in dicte:\n",
    "    print(i)"
   ]
  },
  {
   "cell_type": "markdown",
   "metadata": {},
   "source": [
    "SORU:13 Aşağıda verilen listenin tüm elemanlarını while döngüsü kullanarak ekrana yazdırınız."
   ]
  },
  {
   "cell_type": "code",
   "execution_count": null,
   "metadata": {},
   "outputs": [],
   "source": []
  },
  {
   "cell_type": "markdown",
   "metadata": {},
   "source": [
    "SORU:14  1'den 10' a kadar olan sayıları while kullanarak ekrana yazdırınız.\n"
   ]
  },
  {
   "cell_type": "code",
   "execution_count": null,
   "metadata": {},
   "outputs": [],
   "source": []
  },
  {
   "cell_type": "markdown",
   "metadata": {},
   "source": [
    "SORU:15  Write a Python code that counts how many vowels and constants a string has that a user entered."
   ]
  },
  {
   "cell_type": "code",
   "execution_count": 82,
   "metadata": {
    "tags": []
   },
   "outputs": [
    {
     "output_type": "stream",
     "name": "stdout",
     "text": "7\n0\n"
    }
   ],
   "source": [
    "vowels = ['a','e','i','o','u']\n",
    "unlu = 0\n",
    "unsuz = 0\n",
    "word = input('bir seyler yaz')\n",
    "for i in word:\n",
    "    if i in vowels:\n",
    "        unlu += 1 \n",
    "    else:\n",
    "        unsuz += 1\n",
    "print(unsuz)\n",
    "print(unlu)\n"
   ]
  },
  {
   "cell_type": "markdown",
   "metadata": {},
   "source": [
    "SORU:16  Print-return farkı"
   ]
  },
  {
   "cell_type": "code",
   "execution_count": null,
   "metadata": {},
   "outputs": [],
   "source": []
  },
  {
   "cell_type": "markdown",
   "metadata": {},
   "source": [
    "SORU:17  *arg and **kwargs"
   ]
  },
  {
   "cell_type": "code",
   "execution_count": null,
   "metadata": {},
   "outputs": [],
   "source": []
  },
  {
   "cell_type": "markdown",
   "metadata": {},
   "source": [
    "SORU:18  *arg and **kwargs"
   ]
  },
  {
   "cell_type": "code",
   "execution_count": null,
   "metadata": {},
   "outputs": [],
   "source": []
  },
  {
   "cell_type": "markdown",
   "metadata": {},
   "source": [
    "SORU:19  Define a function with 'arbitrary numbers of arguments' method named as ‘spec_opr(*numbers)' . This function sums all of the arguments after a process. \n",
    "This process is even numbers should be divided by 2 and odd numbers should be multiplied with 3 first and then added to the total sum. \n",
    "\n",
    "Examples:\n",
    "\n",
    "spec_opr(3, 2, 6) should return 13,\n",
    "\n",
    "spec_opr(58, 53, 10, -10, -40, -28, 8, 34, 70, -16, 33) should return 301,\n",
    "\n",
    "spec_opr(93, 12, 5, 84, -22) should return 331"
   ]
  },
  {
   "cell_type": "code",
   "execution_count": null,
   "metadata": {},
   "outputs": [],
   "source": []
  },
  {
   "cell_type": "markdown",
   "metadata": {},
   "source": [
    "SORU:20  Write a Python program to sort a list of tuples using Lambda."
   ]
  },
  {
   "cell_type": "code",
   "execution_count": null,
   "metadata": {},
   "outputs": [],
   "source": []
  },
  {
   "cell_type": "markdown",
   "metadata": {},
   "source": [
    "SORU:21  Write a Python function that takes a list and returns a new list with unique elements of the first list."
   ]
  },
  {
   "cell_type": "code",
   "execution_count": null,
   "metadata": {},
   "outputs": [],
   "source": []
  },
  {
   "cell_type": "markdown",
   "metadata": {},
   "source": [
    "SORU:22  Write a Python program to filter a list of integers using Lambda."
   ]
  },
  {
   "cell_type": "code",
   "execution_count": null,
   "metadata": {},
   "outputs": [],
   "source": []
  }
 ],
 "metadata": {
  "kernelspec": {
   "display_name": "Python 3",
   "language": "python",
   "name": "python3"
  },
  "language_info": {
   "codemirror_mode": {
    "name": "ipython",
    "version": 3
   },
   "file_extension": ".py",
   "mimetype": "text/x-python",
   "name": "python",
   "nbconvert_exporter": "python",
   "pygments_lexer": "ipython3",
   "version": "3.7.7-final"
  }
 },
 "nbformat": 4,
 "nbformat_minor": 4
}