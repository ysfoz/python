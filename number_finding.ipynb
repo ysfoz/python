{
 "metadata": {
  "language_info": {
   "codemirror_mode": {
    "name": "ipython",
    "version": 3
   },
   "file_extension": ".py",
   "mimetype": "text/x-python",
   "name": "python",
   "nbconvert_exporter": "python",
   "pygments_lexer": "ipython3",
   "version": 3
  },
  "orig_nbformat": 2,
  "kernelspec": {
   "name": "python_defaultSpec_1595187127091",
   "display_name": "Python 3.8.3 64-bit"
  }
 },
 "nbformat": 4,
 "nbformat_minor": 2,
 "cells": [
  {
   "cell_type": "code",
   "execution_count": 34,
   "metadata": {
    "tags": []
   },
   "outputs": [
    {
     "output_type": "stream",
     "name": "stdout",
     "text": "****************************************************************\n       Can You Find The number that I Catched in my mind\n****************************************************************\n10\nProcessing\nYou muss enter a bigger number\n9\nProcessing\nYou muss enter a bigger number\n8\nProcessing\nYou muss enter a bigger number\n7\nProcessing\nYou muss enter a bigger number\n6\nProcessing\nYou muss enter a bigger number\n This was hard for you. Try easier one, Here we go\n5\nProcessing\nYou muss enter a bigger number\n4\nProcessing\nYou muss enter a bigger number\n3\nProcessing\nYou muss enter a bigger number\n2\nProcessing\nYou muss enter a bigger number\n1\nProcessing\nYou muss enter a bigger number\nTry it later. Today is not your best day\n"
    }
   ],
   "source": [
    "from random import randint\n",
    "from time import sleep\n",
    "\n",
    "print(\"****************************************************************\\n       Can You Find The number that I Catched in my mind\\n****************************************************************\")\n",
    "\n",
    "number = randint(1,100)\n",
    "number2 = randint(1,30)\n",
    "trying = 10\n",
    "if trying > 0:\n",
    "    while 5 < trying <= 10  :\n",
    "        print(trying)\n",
    "        guess = int(input('Please enter a number between 1 and 100'))\n",
    "        if guess < number:\n",
    "            print('Processing')\n",
    "            sleep(1)\n",
    "            print('You muss enter a bigger number')\n",
    "            trying -= 1\n",
    "        elif guess > number:\n",
    "            print('Processing')\n",
    "            sleep(1)\n",
    "            print('You muss enter a smaller number')\n",
    "            trying -= 1\n",
    "        else:\n",
    "            print('Processing')\n",
    "            sleep(1)\n",
    "            print('Congratulations')\n",
    "            break\n",
    "    print(' This was hard for you. Try easier one, Here we go')        \n",
    "    while 0 < trying <= 5:\n",
    "        print(trying)\n",
    "        guess2 = int(input('Please enter a number between 1 and 30'))\n",
    "        if guess2 < number2:\n",
    "            print('Processing')\n",
    "            sleep(1)\n",
    "            print('You muss enter a bigger number')\n",
    "            trying -= 1\n",
    "        elif guess2 > number2:\n",
    "            print('Processing')\n",
    "            sleep(1)\n",
    "            print('You muss enter a smaller number')\n",
    "            trying -= 1\n",
    "        else:\n",
    "            print('Processing')\n",
    "            sleep(1)\n",
    "            print('Congratulations')\n",
    "            break\n",
    "    else:\n",
    "        print('Try it later. Today is not your best day')\n",
    "  \n",
    "    \n",
    "    \n",
    "    "
   ]
  },
  {
   "cell_type": "code",
   "execution_count": null,
   "metadata": {},
   "outputs": [],
   "source": []
  },
  {
   "cell_type": "code",
   "execution_count": null,
   "metadata": {},
   "outputs": [],
   "source": []
  }
 ]
}