{
 "cells": [
  {
   "cell_type": "code",
   "execution_count": 4,
   "metadata": {
    "tags": []
   },
   "outputs": [
    {
     "output_type": "stream",
     "name": "stdout",
     "text": "344 is not an Armstrong number\n"
    }
   ],
   "source": [
    "deger = input('give a number')\n",
    "if deger.isdigit() == False:\n",
    "    print (\"It is an invalid entry. Don't use non-numeric, float, or negative values!\")\n",
    "liste = list(deger)\n",
    "total = 0\n",
    "if deger.isdigit() == True:\n",
    "    for i in liste:\n",
    "        her_sayi = (int(i)) ** len(liste)\n",
    "        total += her_sayi \n",
    "    if int(deger) == total:\n",
    "        print(f'{total} is an Armstrong number')\n",
    "    else:\n",
    "        print(f'{deger} is not an Armstrong number')"
   ]
  }
 ],
 "metadata": {
  "language_info": {
   "codemirror_mode": {
    "name": "ipython",
    "version": 3
   },
   "file_extension": ".py",
   "mimetype": "text/x-python",
   "name": "python",
   "nbconvert_exporter": "python",
   "pygments_lexer": "ipython3",
   "version": 3
  },
  "orig_nbformat": 2,
  "kernelspec": {
   "name": "python_defaultSpec_1594248933493",
   "display_name": "Python 3.7.6 64-bit ('base': conda)"
  }
 },
 "nbformat": 4,
 "nbformat_minor": 2
}