{
 "cells": [
  {
   "cell_type": "code",
   "execution_count": 1,
   "metadata": {
    "tags": []
   },
   "outputs": [
    {
     "output_type": "stream",
     "name": "stdout",
     "text": "4679307774 is an Armstrong number\n"
    }
   ],
   "source": [
    "deger = input('give a number')\n",
    "if deger.isdigit() == False:\n",
    "    print (\"It is an invalid entry. Don't use non-numeric, float, or negative values!\")\n",
    "liste = list(deger)\n",
    "total = 0\n",
    "if deger.isdigit() == True:\n",
    "    for i in liste:\n",
    "        her_sayi = (int(i)) ** len(liste)\n",
    "        total += her_sayi \n",
    "    if int(deger) == total:\n",
    "        print(f'{total} is an Armstrong number')\n",
    "    else:\n",
    "        print(f'{deger} is not an Armstrong number')"
   ]
  },
  {
   "cell_type": "code",
   "execution_count": null,
   "metadata": {},
   "outputs": [],
   "source": [
    " # assignment prime number\n",
    " number2 = int(input('enter a number : '))\n",
    " counter = 0\n",
    " for i in range(1,number2 + 1):\n",
    "     if not(number2 % i) :\n",
    "         counter += 1\n",
    "if (number2 == 0) or (number2 ==1) or (counter >= 3) :\n",
    "    print(n,'is not a prime number' )\n",
    "else:\n",
    "    print(number2,'is a prime number') "
   ]
  },
  {
   "cell_type": "code",
   "execution_count": null,
   "metadata": {},
   "outputs": [],
   "source": [
    "# assignment armstrong number\n",
    "while True:\n",
    "    number = input('enter a positive number')\n",
    "    digits = len(number)\n",
    "    total = 0\n",
    "    if not number.isdigit() :\n",
    "        print(number,'it is an invalid entry.')\n",
    "    elif int(number) >= 0:\n",
    "        for i in range(diits):\n",
    "            total = += int(number[i]) ** digits\n",
    "        if total == int(number) :\n",
    "            print(number, 'is an Armstrong number.')\n",
    "            break\n",
    "        else:\n",
    "            print(number'is not an Armstrong number.')\n",
    "            break\n",
    "        "
   ]
  }
 ],
 "metadata": {
  "language_info": {
   "codemirror_mode": {
    "name": "ipython",
    "version": 3
   },
   "file_extension": ".py",
   "mimetype": "text/x-python",
   "name": "python",
   "nbconvert_exporter": "python",
   "pygments_lexer": "ipython3",
   "version": 3
  },
  "orig_nbformat": 2,
  "kernelspec": {
   "name": "python_defaultSpec_1594572073114",
   "display_name": "Python 3.7.6 64-bit ('base': conda)"
  }
 },
 "nbformat": 4,
 "nbformat_minor": 2
}