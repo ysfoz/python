{
 "cells": [
  {
   "cell_type": "code",
   "execution_count": 19,
   "metadata": {
    "tags": []
   },
   "outputs": [
    {
     "output_type": "stream",
     "name": "stdout",
     "text": "this is a prime number\n"
    }
   ],
   "source": [
    "value = input('enter a number')\n",
    "number = int(value)\n",
    "counter = 0\n",
    "for i in range(2,number):\n",
    "    if not(number % i) != 0:\n",
    "        counter += 1\n",
    "if counter == 0 :\n",
    "    print('this is a prime number')\n",
    "else:\n",
    "    print('this is not a prime number')\n",
    "                  "
   ]
  },
  {
   "cell_type": "code",
   "execution_count": null,
   "metadata": {},
   "outputs": [],
   "source": []
  }
 ],
 "metadata": {
  "language_info": {
   "codemirror_mode": {
    "name": "ipython",
    "version": 3
   },
   "file_extension": ".py",
   "mimetype": "text/x-python",
   "name": "python",
   "nbconvert_exporter": "python",
   "pygments_lexer": "ipython3",
   "version": 3
  },
  "orig_nbformat": 2,
  "kernelspec": {
   "name": "python_defaultSpec_1594999192716",
   "display_name": "Python 3.8.3 64-bit"
  }
 },
 "nbformat": 4,
 "nbformat_minor": 2
}